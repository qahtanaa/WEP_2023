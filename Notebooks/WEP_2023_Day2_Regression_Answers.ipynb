{
 "cells": [
  {
   "cell_type": "code",
   "execution_count": 3,
   "metadata": {
    "id": "Ay0e7RVbmjCd"
   },
   "outputs": [],
   "source": [
    "import pandas as pd\n",
    "import numpy as np\n",
    "import csv\n",
    "import math"
   ]
  },
  {
   "cell_type": "code",
   "execution_count": 11,
   "metadata": {
    "id": "RbMnRX_wmjDA"
   },
   "outputs": [],
   "source": [
    "from sklearn import linear_model\n",
    "from sklearn.linear_model import LinearRegression\n",
    "from sklearn import metrics\n",
    "from sklearn import datasets\n",
    "import matplotlib.pyplot as plt"
   ]
  },
  {
   "cell_type": "markdown",
   "metadata": {
    "id": "mC8aLqBkmjDA"
   },
   "source": [
    "# Regression"
   ]
  },
  {
   "cell_type": "markdown",
   "metadata": {
    "id": "aXGqO5-GmjDA"
   },
   "source": [
    "#### We start by reading the data"
   ]
  },
  {
   "cell_type": "code",
   "execution_count": 5,
   "metadata": {
    "colab": {
     "base_uri": "https://localhost:8080/",
     "height": 505
    },
    "executionInfo": {
     "elapsed": 233,
     "status": "ok",
     "timestamp": 1642436250488,
     "user": {
      "displayName": "Abdulhakim Qahtan",
      "photoUrl": "https://lh3.googleusercontent.com/a-/AOh14GhKGH_ruE3oitWLKHS4BOT7DYseeSnTHTqzO0SCMw=s64",
      "userId": "11205961928557001277"
     },
     "user_tz": -60
    },
    "id": "wGyl3so7mjDA",
    "outputId": "72d392a2-1724-44e7-8294-5c309e0a56d5"
   },
   "outputs": [
    {
     "data": {
      "text/html": [
       "<div>\n",
       "<style scoped>\n",
       "    .dataframe tbody tr th:only-of-type {\n",
       "        vertical-align: middle;\n",
       "    }\n",
       "\n",
       "    .dataframe tbody tr th {\n",
       "        vertical-align: top;\n",
       "    }\n",
       "\n",
       "    .dataframe thead th {\n",
       "        text-align: right;\n",
       "    }\n",
       "</style>\n",
       "<table border=\"1\" class=\"dataframe\">\n",
       "  <thead>\n",
       "    <tr style=\"text-align: right;\">\n",
       "      <th></th>\n",
       "      <th>Unnamed: 0</th>\n",
       "      <th>ALQ120Q</th>\n",
       "      <th>BMXBMI</th>\n",
       "      <th>BMXHT</th>\n",
       "      <th>BMXLEG</th>\n",
       "      <th>BMXWAIST</th>\n",
       "      <th>BMXWT</th>\n",
       "      <th>BPQ020</th>\n",
       "      <th>DMDEDUC2</th>\n",
       "      <th>INDHHINC</th>\n",
       "      <th>LBXTC</th>\n",
       "      <th>MCQ250A</th>\n",
       "      <th>PAQ180</th>\n",
       "      <th>RIAGENDR</th>\n",
       "      <th>RIDAGEYR</th>\n",
       "      <th>RIDRETH1</th>\n",
       "      <th>SMD030</th>\n",
       "      <th>status</th>\n",
       "    </tr>\n",
       "  </thead>\n",
       "  <tbody>\n",
       "    <tr>\n",
       "      <th>0</th>\n",
       "      <td>2</td>\n",
       "      <td>2.0</td>\n",
       "      <td>27.9</td>\n",
       "      <td>169.0</td>\n",
       "      <td>42.3</td>\n",
       "      <td>96.0</td>\n",
       "      <td>79.7</td>\n",
       "      <td>2.0</td>\n",
       "      <td>4.0</td>\n",
       "      <td>2.0</td>\n",
       "      <td>650.0</td>\n",
       "      <td>2.0</td>\n",
       "      <td>1.0</td>\n",
       "      <td>2.0</td>\n",
       "      <td>37.0</td>\n",
       "      <td>3.0</td>\n",
       "      <td>15.0</td>\n",
       "      <td>0</td>\n",
       "    </tr>\n",
       "    <tr>\n",
       "      <th>1</th>\n",
       "      <td>3</td>\n",
       "      <td>1.0</td>\n",
       "      <td>63.4</td>\n",
       "      <td>164.4</td>\n",
       "      <td>36.0</td>\n",
       "      <td>144.6</td>\n",
       "      <td>171.4</td>\n",
       "      <td>2.0</td>\n",
       "      <td>4.0</td>\n",
       "      <td>11.0</td>\n",
       "      <td>169.0</td>\n",
       "      <td>1.0</td>\n",
       "      <td>2.0</td>\n",
       "      <td>2.0</td>\n",
       "      <td>32.0</td>\n",
       "      <td>4.0</td>\n",
       "      <td>20.0</td>\n",
       "      <td>0</td>\n",
       "    </tr>\n",
       "    <tr>\n",
       "      <th>2</th>\n",
       "      <td>6</td>\n",
       "      <td>10.0</td>\n",
       "      <td>32.2</td>\n",
       "      <td>178.5</td>\n",
       "      <td>46.4</td>\n",
       "      <td>110.2</td>\n",
       "      <td>102.6</td>\n",
       "      <td>2.0</td>\n",
       "      <td>3.0</td>\n",
       "      <td>2.0</td>\n",
       "      <td>142.0</td>\n",
       "      <td>2.0</td>\n",
       "      <td>4.0</td>\n",
       "      <td>1.0</td>\n",
       "      <td>29.0</td>\n",
       "      <td>1.0</td>\n",
       "      <td>14.0</td>\n",
       "      <td>0</td>\n",
       "    </tr>\n",
       "    <tr>\n",
       "      <th>3</th>\n",
       "      <td>9</td>\n",
       "      <td>2.0</td>\n",
       "      <td>26.9</td>\n",
       "      <td>176.2</td>\n",
       "      <td>38.1</td>\n",
       "      <td>93.6</td>\n",
       "      <td>83.6</td>\n",
       "      <td>2.0</td>\n",
       "      <td>5.0</td>\n",
       "      <td>9.0</td>\n",
       "      <td>178.0</td>\n",
       "      <td>1.0</td>\n",
       "      <td>3.0</td>\n",
       "      <td>1.0</td>\n",
       "      <td>60.0</td>\n",
       "      <td>3.0</td>\n",
       "      <td>18.0</td>\n",
       "      <td>1</td>\n",
       "    </tr>\n",
       "    <tr>\n",
       "      <th>4</th>\n",
       "      <td>11</td>\n",
       "      <td>1.0</td>\n",
       "      <td>23.5</td>\n",
       "      <td>171.2</td>\n",
       "      <td>41.0</td>\n",
       "      <td>83.4</td>\n",
       "      <td>68.9</td>\n",
       "      <td>2.0</td>\n",
       "      <td>2.0</td>\n",
       "      <td>2.0</td>\n",
       "      <td>159.0</td>\n",
       "      <td>1.0</td>\n",
       "      <td>1.0</td>\n",
       "      <td>2.0</td>\n",
       "      <td>21.0</td>\n",
       "      <td>3.0</td>\n",
       "      <td>9.0</td>\n",
       "      <td>0</td>\n",
       "    </tr>\n",
       "    <tr>\n",
       "      <th>...</th>\n",
       "      <td>...</td>\n",
       "      <td>...</td>\n",
       "      <td>...</td>\n",
       "      <td>...</td>\n",
       "      <td>...</td>\n",
       "      <td>...</td>\n",
       "      <td>...</td>\n",
       "      <td>...</td>\n",
       "      <td>...</td>\n",
       "      <td>...</td>\n",
       "      <td>...</td>\n",
       "      <td>...</td>\n",
       "      <td>...</td>\n",
       "      <td>...</td>\n",
       "      <td>...</td>\n",
       "      <td>...</td>\n",
       "      <td>...</td>\n",
       "      <td>...</td>\n",
       "    </tr>\n",
       "    <tr>\n",
       "      <th>1851</th>\n",
       "      <td>4398</td>\n",
       "      <td>7.0</td>\n",
       "      <td>27.6</td>\n",
       "      <td>171.3</td>\n",
       "      <td>37.5</td>\n",
       "      <td>93.4</td>\n",
       "      <td>80.9</td>\n",
       "      <td>2.0</td>\n",
       "      <td>5.0</td>\n",
       "      <td>10.0</td>\n",
       "      <td>232.0</td>\n",
       "      <td>1.0</td>\n",
       "      <td>2.0</td>\n",
       "      <td>2.0</td>\n",
       "      <td>44.0</td>\n",
       "      <td>3.0</td>\n",
       "      <td>15.0</td>\n",
       "      <td>0</td>\n",
       "    </tr>\n",
       "    <tr>\n",
       "      <th>1852</th>\n",
       "      <td>4399</td>\n",
       "      <td>1.0</td>\n",
       "      <td>28.5</td>\n",
       "      <td>163.2</td>\n",
       "      <td>39.5</td>\n",
       "      <td>89.4</td>\n",
       "      <td>76.0</td>\n",
       "      <td>2.0</td>\n",
       "      <td>3.0</td>\n",
       "      <td>9.0</td>\n",
       "      <td>158.0</td>\n",
       "      <td>1.0</td>\n",
       "      <td>2.0</td>\n",
       "      <td>2.0</td>\n",
       "      <td>21.0</td>\n",
       "      <td>3.0</td>\n",
       "      <td>17.0</td>\n",
       "      <td>0</td>\n",
       "    </tr>\n",
       "    <tr>\n",
       "      <th>1853</th>\n",
       "      <td>4406</td>\n",
       "      <td>0.0</td>\n",
       "      <td>28.0</td>\n",
       "      <td>157.1</td>\n",
       "      <td>40.4</td>\n",
       "      <td>87.9</td>\n",
       "      <td>69.2</td>\n",
       "      <td>2.0</td>\n",
       "      <td>3.0</td>\n",
       "      <td>8.0</td>\n",
       "      <td>231.0</td>\n",
       "      <td>1.0</td>\n",
       "      <td>2.0</td>\n",
       "      <td>2.0</td>\n",
       "      <td>28.0</td>\n",
       "      <td>3.0</td>\n",
       "      <td>22.0</td>\n",
       "      <td>0</td>\n",
       "    </tr>\n",
       "    <tr>\n",
       "      <th>1854</th>\n",
       "      <td>4407</td>\n",
       "      <td>2.0</td>\n",
       "      <td>22.9</td>\n",
       "      <td>168.6</td>\n",
       "      <td>37.4</td>\n",
       "      <td>90.8</td>\n",
       "      <td>65.0</td>\n",
       "      <td>2.0</td>\n",
       "      <td>2.0</td>\n",
       "      <td>3.0</td>\n",
       "      <td>216.0</td>\n",
       "      <td>1.0</td>\n",
       "      <td>2.0</td>\n",
       "      <td>1.0</td>\n",
       "      <td>71.0</td>\n",
       "      <td>3.0</td>\n",
       "      <td>16.0</td>\n",
       "      <td>0</td>\n",
       "    </tr>\n",
       "    <tr>\n",
       "      <th>1855</th>\n",
       "      <td>4409</td>\n",
       "      <td>0.0</td>\n",
       "      <td>21.8</td>\n",
       "      <td>166.4</td>\n",
       "      <td>39.5</td>\n",
       "      <td>79.6</td>\n",
       "      <td>60.3</td>\n",
       "      <td>2.0</td>\n",
       "      <td>2.0</td>\n",
       "      <td>8.0</td>\n",
       "      <td>228.0</td>\n",
       "      <td>1.0</td>\n",
       "      <td>3.0</td>\n",
       "      <td>2.0</td>\n",
       "      <td>49.0</td>\n",
       "      <td>3.0</td>\n",
       "      <td>15.0</td>\n",
       "      <td>0</td>\n",
       "    </tr>\n",
       "  </tbody>\n",
       "</table>\n",
       "<p>1856 rows × 18 columns</p>\n",
       "</div>"
      ],
      "text/plain": [
       "      Unnamed: 0  ALQ120Q  BMXBMI  BMXHT  BMXLEG  BMXWAIST  BMXWT  BPQ020  \\\n",
       "0              2      2.0    27.9  169.0    42.3      96.0   79.7     2.0   \n",
       "1              3      1.0    63.4  164.4    36.0     144.6  171.4     2.0   \n",
       "2              6     10.0    32.2  178.5    46.4     110.2  102.6     2.0   \n",
       "3              9      2.0    26.9  176.2    38.1      93.6   83.6     2.0   \n",
       "4             11      1.0    23.5  171.2    41.0      83.4   68.9     2.0   \n",
       "...          ...      ...     ...    ...     ...       ...    ...     ...   \n",
       "1851        4398      7.0    27.6  171.3    37.5      93.4   80.9     2.0   \n",
       "1852        4399      1.0    28.5  163.2    39.5      89.4   76.0     2.0   \n",
       "1853        4406      0.0    28.0  157.1    40.4      87.9   69.2     2.0   \n",
       "1854        4407      2.0    22.9  168.6    37.4      90.8   65.0     2.0   \n",
       "1855        4409      0.0    21.8  166.4    39.5      79.6   60.3     2.0   \n",
       "\n",
       "      DMDEDUC2  INDHHINC  LBXTC  MCQ250A  PAQ180  RIAGENDR  RIDAGEYR  \\\n",
       "0          4.0       2.0  650.0      2.0     1.0       2.0      37.0   \n",
       "1          4.0      11.0  169.0      1.0     2.0       2.0      32.0   \n",
       "2          3.0       2.0  142.0      2.0     4.0       1.0      29.0   \n",
       "3          5.0       9.0  178.0      1.0     3.0       1.0      60.0   \n",
       "4          2.0       2.0  159.0      1.0     1.0       2.0      21.0   \n",
       "...        ...       ...    ...      ...     ...       ...       ...   \n",
       "1851       5.0      10.0  232.0      1.0     2.0       2.0      44.0   \n",
       "1852       3.0       9.0  158.0      1.0     2.0       2.0      21.0   \n",
       "1853       3.0       8.0  231.0      1.0     2.0       2.0      28.0   \n",
       "1854       2.0       3.0  216.0      1.0     2.0       1.0      71.0   \n",
       "1855       2.0       8.0  228.0      1.0     3.0       2.0      49.0   \n",
       "\n",
       "      RIDRETH1  SMD030  status  \n",
       "0          3.0    15.0       0  \n",
       "1          4.0    20.0       0  \n",
       "2          1.0    14.0       0  \n",
       "3          3.0    18.0       1  \n",
       "4          3.0     9.0       0  \n",
       "...        ...     ...     ...  \n",
       "1851       3.0    15.0       0  \n",
       "1852       3.0    17.0       0  \n",
       "1853       3.0    22.0       0  \n",
       "1854       3.0    16.0       0  \n",
       "1855       3.0    15.0       0  \n",
       "\n",
       "[1856 rows x 18 columns]"
      ]
     },
     "execution_count": 5,
     "metadata": {},
     "output_type": "execute_result"
    }
   ],
   "source": [
    "df = pd.read_csv('sample_data/diabetes_data.csv')\n",
    "df"
   ]
  },
  {
   "cell_type": "code",
   "execution_count": 6,
   "metadata": {
    "colab": {
     "base_uri": "https://localhost:8080/"
    },
    "executionInfo": {
     "elapsed": 291,
     "status": "ok",
     "timestamp": 1642407121510,
     "user": {
      "displayName": "Abdulhakim Qahtan",
      "photoUrl": "https://lh3.googleusercontent.com/a-/AOh14GhKGH_ruE3oitWLKHS4BOT7DYseeSnTHTqzO0SCMw=s64",
      "userId": "11205961928557001277"
     },
     "user_tz": -60
    },
    "id": "_hMGocJZmjDB",
    "outputId": "292b36d1-5f01-4746-aa0c-ed3b35fe855a"
   },
   "outputs": [
    {
     "data": {
      "text/plain": [
       "array([0, 1])"
      ]
     },
     "execution_count": 6,
     "metadata": {},
     "output_type": "execute_result"
    }
   ],
   "source": [
    "# TODO: the column status represents the classes of the records, check how many classes do we have\n",
    "df.status.unique()"
   ]
  },
  {
   "cell_type": "code",
   "execution_count": 7,
   "metadata": {
    "colab": {
     "base_uri": "https://localhost:8080/",
     "height": 712
    },
    "executionInfo": {
     "elapsed": 316,
     "status": "ok",
     "timestamp": 1642407140660,
     "user": {
      "displayName": "Abdulhakim Qahtan",
      "photoUrl": "https://lh3.googleusercontent.com/a-/AOh14GhKGH_ruE3oitWLKHS4BOT7DYseeSnTHTqzO0SCMw=s64",
      "userId": "11205961928557001277"
     },
     "user_tz": -60
    },
    "id": "9HNL8x0KmjDB",
    "outputId": "a4acf8dc-1b79-46d6-92a5-c885ec1096e8"
   },
   "outputs": [
    {
     "data": {
      "text/html": [
       "<div>\n",
       "<style scoped>\n",
       "    .dataframe tbody tr th:only-of-type {\n",
       "        vertical-align: middle;\n",
       "    }\n",
       "\n",
       "    .dataframe tbody tr th {\n",
       "        vertical-align: top;\n",
       "    }\n",
       "\n",
       "    .dataframe thead th {\n",
       "        text-align: right;\n",
       "    }\n",
       "</style>\n",
       "<table border=\"1\" class=\"dataframe\">\n",
       "  <thead>\n",
       "    <tr style=\"text-align: right;\">\n",
       "      <th></th>\n",
       "      <th>Unnamed: 0</th>\n",
       "      <th>ALQ120Q</th>\n",
       "      <th>BMXBMI</th>\n",
       "      <th>BMXHT</th>\n",
       "      <th>BMXLEG</th>\n",
       "      <th>BMXWAIST</th>\n",
       "      <th>BMXWT</th>\n",
       "      <th>BPQ020</th>\n",
       "      <th>DMDEDUC2</th>\n",
       "      <th>INDHHINC</th>\n",
       "      <th>LBXTC</th>\n",
       "      <th>MCQ250A</th>\n",
       "      <th>PAQ180</th>\n",
       "      <th>RIAGENDR</th>\n",
       "      <th>RIDAGEYR</th>\n",
       "      <th>RIDRETH1</th>\n",
       "      <th>SMD030</th>\n",
       "      <th>status</th>\n",
       "    </tr>\n",
       "  </thead>\n",
       "  <tbody>\n",
       "    <tr>\n",
       "      <th>Unnamed: 0</th>\n",
       "      <td>1.000000</td>\n",
       "      <td>-0.023657</td>\n",
       "      <td>0.021137</td>\n",
       "      <td>-0.039608</td>\n",
       "      <td>-0.027007</td>\n",
       "      <td>0.007509</td>\n",
       "      <td>0.000890</td>\n",
       "      <td>0.013895</td>\n",
       "      <td>-0.015294</td>\n",
       "      <td>0.000506</td>\n",
       "      <td>0.002670</td>\n",
       "      <td>0.017763</td>\n",
       "      <td>0.001639</td>\n",
       "      <td>0.047201</td>\n",
       "      <td>-0.020141</td>\n",
       "      <td>-0.016365</td>\n",
       "      <td>-0.038691</td>\n",
       "      <td>-0.056115</td>\n",
       "    </tr>\n",
       "    <tr>\n",
       "      <th>ALQ120Q</th>\n",
       "      <td>-0.023657</td>\n",
       "      <td>1.000000</td>\n",
       "      <td>0.010670</td>\n",
       "      <td>0.039267</td>\n",
       "      <td>0.011265</td>\n",
       "      <td>0.038673</td>\n",
       "      <td>0.028607</td>\n",
       "      <td>-0.005703</td>\n",
       "      <td>-0.017410</td>\n",
       "      <td>-0.011740</td>\n",
       "      <td>0.004898</td>\n",
       "      <td>0.056554</td>\n",
       "      <td>0.027256</td>\n",
       "      <td>-0.042336</td>\n",
       "      <td>0.037955</td>\n",
       "      <td>0.015033</td>\n",
       "      <td>-0.004471</td>\n",
       "      <td>0.048749</td>\n",
       "    </tr>\n",
       "    <tr>\n",
       "      <th>BMXBMI</th>\n",
       "      <td>0.021137</td>\n",
       "      <td>0.010670</td>\n",
       "      <td>1.000000</td>\n",
       "      <td>-0.014176</td>\n",
       "      <td>-0.057494</td>\n",
       "      <td>0.879862</td>\n",
       "      <td>0.888962</td>\n",
       "      <td>-0.211158</td>\n",
       "      <td>0.020657</td>\n",
       "      <td>-0.018410</td>\n",
       "      <td>0.061470</td>\n",
       "      <td>-0.081294</td>\n",
       "      <td>-0.094930</td>\n",
       "      <td>0.046465</td>\n",
       "      <td>0.026841</td>\n",
       "      <td>-0.005132</td>\n",
       "      <td>0.001429</td>\n",
       "      <td>0.163951</td>\n",
       "    </tr>\n",
       "    <tr>\n",
       "      <th>BMXHT</th>\n",
       "      <td>-0.039608</td>\n",
       "      <td>0.039267</td>\n",
       "      <td>-0.014176</td>\n",
       "      <td>1.000000</td>\n",
       "      <td>0.710887</td>\n",
       "      <td>0.231692</td>\n",
       "      <td>0.434623</td>\n",
       "      <td>-0.034432</td>\n",
       "      <td>0.130509</td>\n",
       "      <td>0.046746</td>\n",
       "      <td>-0.043790</td>\n",
       "      <td>0.011532</td>\n",
       "      <td>0.077516</td>\n",
       "      <td>-0.553531</td>\n",
       "      <td>0.035109</td>\n",
       "      <td>0.196932</td>\n",
       "      <td>-0.019173</td>\n",
       "      <td>0.004226</td>\n",
       "    </tr>\n",
       "    <tr>\n",
       "      <th>BMXLEG</th>\n",
       "      <td>-0.027007</td>\n",
       "      <td>0.011265</td>\n",
       "      <td>-0.057494</td>\n",
       "      <td>0.710887</td>\n",
       "      <td>1.000000</td>\n",
       "      <td>0.072413</td>\n",
       "      <td>0.268433</td>\n",
       "      <td>0.025374</td>\n",
       "      <td>0.108307</td>\n",
       "      <td>0.047214</td>\n",
       "      <td>-0.041333</td>\n",
       "      <td>0.010758</td>\n",
       "      <td>0.107296</td>\n",
       "      <td>-0.375303</td>\n",
       "      <td>-0.100799</td>\n",
       "      <td>0.196617</td>\n",
       "      <td>-0.002820</td>\n",
       "      <td>-0.082963</td>\n",
       "    </tr>\n",
       "    <tr>\n",
       "      <th>BMXWAIST</th>\n",
       "      <td>0.007509</td>\n",
       "      <td>0.038673</td>\n",
       "      <td>0.879862</td>\n",
       "      <td>0.231692</td>\n",
       "      <td>0.072413</td>\n",
       "      <td>1.000000</td>\n",
       "      <td>0.897710</td>\n",
       "      <td>-0.298211</td>\n",
       "      <td>-0.029191</td>\n",
       "      <td>-0.034595</td>\n",
       "      <td>0.073962</td>\n",
       "      <td>-0.048883</td>\n",
       "      <td>-0.117008</td>\n",
       "      <td>-0.214919</td>\n",
       "      <td>0.268474</td>\n",
       "      <td>-0.007891</td>\n",
       "      <td>0.024856</td>\n",
       "      <td>0.253853</td>\n",
       "    </tr>\n",
       "    <tr>\n",
       "      <th>BMXWT</th>\n",
       "      <td>0.000890</td>\n",
       "      <td>0.028607</td>\n",
       "      <td>0.888962</td>\n",
       "      <td>0.434623</td>\n",
       "      <td>0.268433</td>\n",
       "      <td>0.897710</td>\n",
       "      <td>1.000000</td>\n",
       "      <td>-0.202448</td>\n",
       "      <td>0.076381</td>\n",
       "      <td>0.006451</td>\n",
       "      <td>0.036656</td>\n",
       "      <td>-0.065857</td>\n",
       "      <td>-0.051378</td>\n",
       "      <td>-0.209018</td>\n",
       "      <td>0.040773</td>\n",
       "      <td>0.085653</td>\n",
       "      <td>-0.008102</td>\n",
       "      <td>0.149312</td>\n",
       "    </tr>\n",
       "    <tr>\n",
       "      <th>BPQ020</th>\n",
       "      <td>0.013895</td>\n",
       "      <td>-0.005703</td>\n",
       "      <td>-0.211158</td>\n",
       "      <td>-0.034432</td>\n",
       "      <td>0.025374</td>\n",
       "      <td>-0.298211</td>\n",
       "      <td>-0.202448</td>\n",
       "      <td>1.000000</td>\n",
       "      <td>0.039677</td>\n",
       "      <td>0.047278</td>\n",
       "      <td>0.015609</td>\n",
       "      <td>0.046097</td>\n",
       "      <td>0.133831</td>\n",
       "      <td>0.108266</td>\n",
       "      <td>-0.351108</td>\n",
       "      <td>-0.072761</td>\n",
       "      <td>0.004501</td>\n",
       "      <td>-0.280677</td>\n",
       "    </tr>\n",
       "    <tr>\n",
       "      <th>DMDEDUC2</th>\n",
       "      <td>-0.015294</td>\n",
       "      <td>-0.017410</td>\n",
       "      <td>0.020657</td>\n",
       "      <td>0.130509</td>\n",
       "      <td>0.108307</td>\n",
       "      <td>-0.029191</td>\n",
       "      <td>0.076381</td>\n",
       "      <td>0.039677</td>\n",
       "      <td>1.000000</td>\n",
       "      <td>0.181319</td>\n",
       "      <td>-0.036047</td>\n",
       "      <td>0.018216</td>\n",
       "      <td>-0.035390</td>\n",
       "      <td>0.135747</td>\n",
       "      <td>-0.069301</td>\n",
       "      <td>0.310870</td>\n",
       "      <td>-0.027879</td>\n",
       "      <td>-0.075966</td>\n",
       "    </tr>\n",
       "    <tr>\n",
       "      <th>INDHHINC</th>\n",
       "      <td>0.000506</td>\n",
       "      <td>-0.011740</td>\n",
       "      <td>-0.018410</td>\n",
       "      <td>0.046746</td>\n",
       "      <td>0.047214</td>\n",
       "      <td>-0.034595</td>\n",
       "      <td>0.006451</td>\n",
       "      <td>0.047278</td>\n",
       "      <td>0.181319</td>\n",
       "      <td>1.000000</td>\n",
       "      <td>-0.045013</td>\n",
       "      <td>0.001888</td>\n",
       "      <td>0.023796</td>\n",
       "      <td>0.020952</td>\n",
       "      <td>-0.053568</td>\n",
       "      <td>0.013860</td>\n",
       "      <td>-0.007434</td>\n",
       "      <td>-0.040336</td>\n",
       "    </tr>\n",
       "    <tr>\n",
       "      <th>LBXTC</th>\n",
       "      <td>0.002670</td>\n",
       "      <td>0.004898</td>\n",
       "      <td>0.061470</td>\n",
       "      <td>-0.043790</td>\n",
       "      <td>-0.041333</td>\n",
       "      <td>0.073962</td>\n",
       "      <td>0.036656</td>\n",
       "      <td>0.015609</td>\n",
       "      <td>-0.036047</td>\n",
       "      <td>-0.045013</td>\n",
       "      <td>1.000000</td>\n",
       "      <td>-0.019895</td>\n",
       "      <td>-0.006473</td>\n",
       "      <td>0.020454</td>\n",
       "      <td>0.080680</td>\n",
       "      <td>-0.032581</td>\n",
       "      <td>-0.007827</td>\n",
       "      <td>0.018575</td>\n",
       "    </tr>\n",
       "    <tr>\n",
       "      <th>MCQ250A</th>\n",
       "      <td>0.017763</td>\n",
       "      <td>0.056554</td>\n",
       "      <td>-0.081294</td>\n",
       "      <td>0.011532</td>\n",
       "      <td>0.010758</td>\n",
       "      <td>-0.048883</td>\n",
       "      <td>-0.065857</td>\n",
       "      <td>0.046097</td>\n",
       "      <td>0.018216</td>\n",
       "      <td>0.001888</td>\n",
       "      <td>-0.019895</td>\n",
       "      <td>1.000000</td>\n",
       "      <td>-0.028257</td>\n",
       "      <td>-0.046870</td>\n",
       "      <td>0.066255</td>\n",
       "      <td>0.010041</td>\n",
       "      <td>0.078866</td>\n",
       "      <td>-0.030610</td>\n",
       "    </tr>\n",
       "    <tr>\n",
       "      <th>PAQ180</th>\n",
       "      <td>0.001639</td>\n",
       "      <td>0.027256</td>\n",
       "      <td>-0.094930</td>\n",
       "      <td>0.077516</td>\n",
       "      <td>0.107296</td>\n",
       "      <td>-0.117008</td>\n",
       "      <td>-0.051378</td>\n",
       "      <td>0.133831</td>\n",
       "      <td>-0.035390</td>\n",
       "      <td>0.023796</td>\n",
       "      <td>-0.006473</td>\n",
       "      <td>-0.028257</td>\n",
       "      <td>1.000000</td>\n",
       "      <td>-0.100213</td>\n",
       "      <td>-0.186656</td>\n",
       "      <td>-0.077570</td>\n",
       "      <td>-0.018590</td>\n",
       "      <td>-0.120730</td>\n",
       "    </tr>\n",
       "    <tr>\n",
       "      <th>RIAGENDR</th>\n",
       "      <td>0.047201</td>\n",
       "      <td>-0.042336</td>\n",
       "      <td>0.046465</td>\n",
       "      <td>-0.553531</td>\n",
       "      <td>-0.375303</td>\n",
       "      <td>-0.214919</td>\n",
       "      <td>-0.209018</td>\n",
       "      <td>0.108266</td>\n",
       "      <td>0.135747</td>\n",
       "      <td>0.020952</td>\n",
       "      <td>0.020454</td>\n",
       "      <td>-0.046870</td>\n",
       "      <td>-0.100213</td>\n",
       "      <td>1.000000</td>\n",
       "      <td>-0.331847</td>\n",
       "      <td>0.067863</td>\n",
       "      <td>-0.024580</td>\n",
       "      <td>-0.142869</td>\n",
       "    </tr>\n",
       "    <tr>\n",
       "      <th>RIDAGEYR</th>\n",
       "      <td>-0.020141</td>\n",
       "      <td>0.037955</td>\n",
       "      <td>0.026841</td>\n",
       "      <td>0.035109</td>\n",
       "      <td>-0.100799</td>\n",
       "      <td>0.268474</td>\n",
       "      <td>0.040773</td>\n",
       "      <td>-0.351108</td>\n",
       "      <td>-0.069301</td>\n",
       "      <td>-0.053568</td>\n",
       "      <td>0.080680</td>\n",
       "      <td>0.066255</td>\n",
       "      <td>-0.186656</td>\n",
       "      <td>-0.331847</td>\n",
       "      <td>1.000000</td>\n",
       "      <td>-0.002130</td>\n",
       "      <td>0.065125</td>\n",
       "      <td>0.285774</td>\n",
       "    </tr>\n",
       "    <tr>\n",
       "      <th>RIDRETH1</th>\n",
       "      <td>-0.016365</td>\n",
       "      <td>0.015033</td>\n",
       "      <td>-0.005132</td>\n",
       "      <td>0.196932</td>\n",
       "      <td>0.196617</td>\n",
       "      <td>-0.007891</td>\n",
       "      <td>0.085653</td>\n",
       "      <td>-0.072761</td>\n",
       "      <td>0.310870</td>\n",
       "      <td>0.013860</td>\n",
       "      <td>-0.032581</td>\n",
       "      <td>0.010041</td>\n",
       "      <td>-0.077570</td>\n",
       "      <td>0.067863</td>\n",
       "      <td>-0.002130</td>\n",
       "      <td>1.000000</td>\n",
       "      <td>0.038201</td>\n",
       "      <td>-0.021961</td>\n",
       "    </tr>\n",
       "    <tr>\n",
       "      <th>SMD030</th>\n",
       "      <td>-0.038691</td>\n",
       "      <td>-0.004471</td>\n",
       "      <td>0.001429</td>\n",
       "      <td>-0.019173</td>\n",
       "      <td>-0.002820</td>\n",
       "      <td>0.024856</td>\n",
       "      <td>-0.008102</td>\n",
       "      <td>0.004501</td>\n",
       "      <td>-0.027879</td>\n",
       "      <td>-0.007434</td>\n",
       "      <td>-0.007827</td>\n",
       "      <td>0.078866</td>\n",
       "      <td>-0.018590</td>\n",
       "      <td>-0.024580</td>\n",
       "      <td>0.065125</td>\n",
       "      <td>0.038201</td>\n",
       "      <td>1.000000</td>\n",
       "      <td>0.010078</td>\n",
       "    </tr>\n",
       "    <tr>\n",
       "      <th>status</th>\n",
       "      <td>-0.056115</td>\n",
       "      <td>0.048749</td>\n",
       "      <td>0.163951</td>\n",
       "      <td>0.004226</td>\n",
       "      <td>-0.082963</td>\n",
       "      <td>0.253853</td>\n",
       "      <td>0.149312</td>\n",
       "      <td>-0.280677</td>\n",
       "      <td>-0.075966</td>\n",
       "      <td>-0.040336</td>\n",
       "      <td>0.018575</td>\n",
       "      <td>-0.030610</td>\n",
       "      <td>-0.120730</td>\n",
       "      <td>-0.142869</td>\n",
       "      <td>0.285774</td>\n",
       "      <td>-0.021961</td>\n",
       "      <td>0.010078</td>\n",
       "      <td>1.000000</td>\n",
       "    </tr>\n",
       "  </tbody>\n",
       "</table>\n",
       "</div>"
      ],
      "text/plain": [
       "            Unnamed: 0   ALQ120Q    BMXBMI     BMXHT    BMXLEG  BMXWAIST  \\\n",
       "Unnamed: 0    1.000000 -0.023657  0.021137 -0.039608 -0.027007  0.007509   \n",
       "ALQ120Q      -0.023657  1.000000  0.010670  0.039267  0.011265  0.038673   \n",
       "BMXBMI        0.021137  0.010670  1.000000 -0.014176 -0.057494  0.879862   \n",
       "BMXHT        -0.039608  0.039267 -0.014176  1.000000  0.710887  0.231692   \n",
       "BMXLEG       -0.027007  0.011265 -0.057494  0.710887  1.000000  0.072413   \n",
       "BMXWAIST      0.007509  0.038673  0.879862  0.231692  0.072413  1.000000   \n",
       "BMXWT         0.000890  0.028607  0.888962  0.434623  0.268433  0.897710   \n",
       "BPQ020        0.013895 -0.005703 -0.211158 -0.034432  0.025374 -0.298211   \n",
       "DMDEDUC2     -0.015294 -0.017410  0.020657  0.130509  0.108307 -0.029191   \n",
       "INDHHINC      0.000506 -0.011740 -0.018410  0.046746  0.047214 -0.034595   \n",
       "LBXTC         0.002670  0.004898  0.061470 -0.043790 -0.041333  0.073962   \n",
       "MCQ250A       0.017763  0.056554 -0.081294  0.011532  0.010758 -0.048883   \n",
       "PAQ180        0.001639  0.027256 -0.094930  0.077516  0.107296 -0.117008   \n",
       "RIAGENDR      0.047201 -0.042336  0.046465 -0.553531 -0.375303 -0.214919   \n",
       "RIDAGEYR     -0.020141  0.037955  0.026841  0.035109 -0.100799  0.268474   \n",
       "RIDRETH1     -0.016365  0.015033 -0.005132  0.196932  0.196617 -0.007891   \n",
       "SMD030       -0.038691 -0.004471  0.001429 -0.019173 -0.002820  0.024856   \n",
       "status       -0.056115  0.048749  0.163951  0.004226 -0.082963  0.253853   \n",
       "\n",
       "               BMXWT    BPQ020  DMDEDUC2  INDHHINC     LBXTC   MCQ250A  \\\n",
       "Unnamed: 0  0.000890  0.013895 -0.015294  0.000506  0.002670  0.017763   \n",
       "ALQ120Q     0.028607 -0.005703 -0.017410 -0.011740  0.004898  0.056554   \n",
       "BMXBMI      0.888962 -0.211158  0.020657 -0.018410  0.061470 -0.081294   \n",
       "BMXHT       0.434623 -0.034432  0.130509  0.046746 -0.043790  0.011532   \n",
       "BMXLEG      0.268433  0.025374  0.108307  0.047214 -0.041333  0.010758   \n",
       "BMXWAIST    0.897710 -0.298211 -0.029191 -0.034595  0.073962 -0.048883   \n",
       "BMXWT       1.000000 -0.202448  0.076381  0.006451  0.036656 -0.065857   \n",
       "BPQ020     -0.202448  1.000000  0.039677  0.047278  0.015609  0.046097   \n",
       "DMDEDUC2    0.076381  0.039677  1.000000  0.181319 -0.036047  0.018216   \n",
       "INDHHINC    0.006451  0.047278  0.181319  1.000000 -0.045013  0.001888   \n",
       "LBXTC       0.036656  0.015609 -0.036047 -0.045013  1.000000 -0.019895   \n",
       "MCQ250A    -0.065857  0.046097  0.018216  0.001888 -0.019895  1.000000   \n",
       "PAQ180     -0.051378  0.133831 -0.035390  0.023796 -0.006473 -0.028257   \n",
       "RIAGENDR   -0.209018  0.108266  0.135747  0.020952  0.020454 -0.046870   \n",
       "RIDAGEYR    0.040773 -0.351108 -0.069301 -0.053568  0.080680  0.066255   \n",
       "RIDRETH1    0.085653 -0.072761  0.310870  0.013860 -0.032581  0.010041   \n",
       "SMD030     -0.008102  0.004501 -0.027879 -0.007434 -0.007827  0.078866   \n",
       "status      0.149312 -0.280677 -0.075966 -0.040336  0.018575 -0.030610   \n",
       "\n",
       "              PAQ180  RIAGENDR  RIDAGEYR  RIDRETH1    SMD030    status  \n",
       "Unnamed: 0  0.001639  0.047201 -0.020141 -0.016365 -0.038691 -0.056115  \n",
       "ALQ120Q     0.027256 -0.042336  0.037955  0.015033 -0.004471  0.048749  \n",
       "BMXBMI     -0.094930  0.046465  0.026841 -0.005132  0.001429  0.163951  \n",
       "BMXHT       0.077516 -0.553531  0.035109  0.196932 -0.019173  0.004226  \n",
       "BMXLEG      0.107296 -0.375303 -0.100799  0.196617 -0.002820 -0.082963  \n",
       "BMXWAIST   -0.117008 -0.214919  0.268474 -0.007891  0.024856  0.253853  \n",
       "BMXWT      -0.051378 -0.209018  0.040773  0.085653 -0.008102  0.149312  \n",
       "BPQ020      0.133831  0.108266 -0.351108 -0.072761  0.004501 -0.280677  \n",
       "DMDEDUC2   -0.035390  0.135747 -0.069301  0.310870 -0.027879 -0.075966  \n",
       "INDHHINC    0.023796  0.020952 -0.053568  0.013860 -0.007434 -0.040336  \n",
       "LBXTC      -0.006473  0.020454  0.080680 -0.032581 -0.007827  0.018575  \n",
       "MCQ250A    -0.028257 -0.046870  0.066255  0.010041  0.078866 -0.030610  \n",
       "PAQ180      1.000000 -0.100213 -0.186656 -0.077570 -0.018590 -0.120730  \n",
       "RIAGENDR   -0.100213  1.000000 -0.331847  0.067863 -0.024580 -0.142869  \n",
       "RIDAGEYR   -0.186656 -0.331847  1.000000 -0.002130  0.065125  0.285774  \n",
       "RIDRETH1   -0.077570  0.067863 -0.002130  1.000000  0.038201 -0.021961  \n",
       "SMD030     -0.018590 -0.024580  0.065125  0.038201  1.000000  0.010078  \n",
       "status     -0.120730 -0.142869  0.285774 -0.021961  0.010078  1.000000  "
      ]
     },
     "execution_count": 7,
     "metadata": {},
     "output_type": "execute_result"
    }
   ],
   "source": [
    "# TODO: check the correlation between the attributes to see if there are two attributes that are highly correlated\n",
    "cor_matrix = df.corr()\n",
    "cor_matrix"
   ]
  },
  {
   "cell_type": "markdown",
   "metadata": {
    "id": "VJd3k0lg0epF"
   },
   "source": [
    "The attributes that are highly correlated are BMXWAIST (\"Waist Circumference (cm)\") and BMXWT (\"Weight (kg)\")"
   ]
  },
  {
   "cell_type": "code",
   "execution_count": 12,
   "metadata": {
    "colab": {
     "base_uri": "https://localhost:8080/",
     "height": 398
    },
    "executionInfo": {
     "elapsed": 396,
     "status": "ok",
     "timestamp": 1642436259529,
     "user": {
      "displayName": "Abdulhakim Qahtan",
      "photoUrl": "https://lh3.googleusercontent.com/a-/AOh14GhKGH_ruE3oitWLKHS4BOT7DYseeSnTHTqzO0SCMw=s64",
      "userId": "11205961928557001277"
     },
     "user_tz": -60
    },
    "id": "fbdvAwo4mjDB",
    "outputId": "15c6251a-5591-475f-98b0-65cd08188ce3"
   },
   "outputs": [
    {
     "data": {
      "image/png": "[encoded data removed]",
      "text/plain": [
       "<Figure size 432x432 with 1 Axes>"
      ]
     },
     "metadata": {
      "needs_background": "light"
     },
     "output_type": "display_data"
    }
   ],
   "source": [
    "#  TODO: use a scatter plot to plot the attributes that are highly correlated \n",
    "font_size = 16               # you can use the size that would be readable easily\n",
    "plt.rcParams.update({'font.size': font_size})\n",
    "fig, ax = plt.subplots(figsize=(6,6))\n",
    "x = df.BMXWAIST\n",
    "y = df.BMXWT\n",
    "\n",
    "plt.scatter(x, y)\n",
    "plt.xlabel(\"Waist Circumference (cm)\")\n",
    "plt.ylabel(\"Weight (kg)\")\n",
    "plt.show()"
   ]
  },
  {
   "cell_type": "markdown",
   "metadata": {
    "id": "JC0ltD3ImjDB"
   },
   "source": [
    "Use these two feature in the following exercises "
   ]
  },
  {
   "cell_type": "code",
   "execution_count": 13,
   "metadata": {
    "colab": {
     "base_uri": "https://localhost:8080/",
     "height": 398
    },
    "executionInfo": {
     "elapsed": 760,
     "status": "ok",
     "timestamp": 1642438276343,
     "user": {
      "displayName": "Abdulhakim Qahtan",
      "photoUrl": "https://lh3.googleusercontent.com/a-/AOh14GhKGH_ruE3oitWLKHS4BOT7DYseeSnTHTqzO0SCMw=s64",
      "userId": "11205961928557001277"
     },
     "user_tz": -60
    },
    "id": "Y5tV9bmTmjDC",
    "outputId": "15d771ac-f4c3-4466-bb9d-f46c60fb4951"
   },
   "outputs": [
    {
     "data": {
      "image/png": "[encoded data removed]",
      "text/plain": [
       "<Figure size 432x432 with 1 Axes>"
      ]
     },
     "metadata": {
      "needs_background": "light"
     },
     "output_type": "display_data"
    }
   ],
   "source": [
    "# TODO: fit a linear regression model on the data \n",
    "feat1 = 'BMXWAIST'\n",
    "feat2 = 'BMXWT'\n",
    "\n",
    "x = np.array(df[feat1]).reshape(-1,1)\n",
    "y = np.array(df[feat2]).reshape(-1,1)\n",
    "mdl = LinearRegression()\n",
    "mdl.fit(x, y)\n",
    "\n",
    "fig, ax = plt.subplots(figsize=(6,6))\n",
    "plt.plot(x,y, \"o\");\n",
    "te = np.arange(min(x),max(x)+4).reshape(-1,1)\n",
    "te_hat = mdl.predict(te)\n",
    "plt.plot(te, te_hat, 'r')\n",
    "\n",
    "plt.xlabel(\"Waist Circumference (cm)\")\n",
    "plt.ylabel(\"Weight (kg)\")\n",
    "\n",
    "y_hat = mdl.predict(x)\n",
    "MAE = round(np.mean(np.abs(y - y_hat)),2)\n",
    "\n",
    "ax.text(125, 70, \"MAE = \" + str(MAE), style='italic',\n",
    "       bbox={'facecolor': 'red', 'alpha': 0.5, 'pad': 10})\n",
    "# plt.title(\"MAE = \" + str(MAE))\n",
    "plt.savefig('linear.pdf', bbox_inches = 'tight')"
   ]
  },
  {
   "cell_type": "code",
   "execution_count": 14,
   "metadata": {
    "colab": {
     "base_uri": "https://localhost:8080/"
    },
    "executionInfo": {
     "elapsed": 314,
     "status": "ok",
     "timestamp": 1642437951830,
     "user": {
      "displayName": "Abdulhakim Qahtan",
      "photoUrl": "https://lh3.googleusercontent.com/a-/AOh14GhKGH_ruE3oitWLKHS4BOT7DYseeSnTHTqzO0SCMw=s64",
      "userId": "11205961928557001277"
     },
     "user_tz": -60
    },
    "id": "Oe8v8QpnmjDC",
    "outputId": "df57e0d9-751c-4669-ae2f-9be19b4e81e2"
   },
   "outputs": [
    {
     "data": {
      "text/plain": [
       "(-28.7, 1.13)"
      ]
     },
     "execution_count": 14,
     "metadata": {},
     "output_type": "execute_result"
    }
   ],
   "source": [
    "# TODO: display the intercept and the coefficient of the linear model\n",
    "round(mdl.intercept_[0], 2), round(mdl.coef_[0][0], 2)"
   ]
  },
  {
   "cell_type": "code",
   "execution_count": 15,
   "metadata": {
    "colab": {
     "base_uri": "https://localhost:8080/",
     "height": 398
    },
    "executionInfo": {
     "elapsed": 339,
     "status": "ok",
     "timestamp": 1642438294965,
     "user": {
      "displayName": "Abdulhakim Qahtan",
      "photoUrl": "https://lh3.googleusercontent.com/a-/AOh14GhKGH_ruE3oitWLKHS4BOT7DYseeSnTHTqzO0SCMw=s64",
      "userId": "11205961928557001277"
     },
     "user_tz": -60
    },
    "id": "C0_xa7G2mjDC",
    "outputId": "d3019936-9f87-4f51-ebde-11a5d3345d8e"
   },
   "outputs": [
    {
     "data": {
      "image/png": "[encoded data removed]",
      "text/plain": [
       "<Figure size 432x432 with 1 Axes>"
      ]
     },
     "metadata": {
      "needs_background": "light"
     },
     "output_type": "display_data"
    }
   ],
   "source": [
    "# TODO: modify the intercept and the coefficient slightly and plot the new model with the old one\n",
    "\n",
    "# We modify the intercept from -28.7 to -27 \n",
    "# and the coefficient from 1.3 to 1.2\n",
    "mdl.intercept_[0] = -27\n",
    "mdl.coef_[0][0] = 1.2\n",
    "\n",
    "fig, ax = plt.subplots(figsize=(6,6))\n",
    "plt.plot(x,y, \"o\");\n",
    "te = np.arange(min(x),max(x)+4).reshape(-1,1)\n",
    "te_hat2 = mdl.predict(te)\n",
    "plt.plot(te, te_hat, 'r')      # use the first model for prediction \n",
    "plt.plot(te, te_hat2, 'g')      # use the modified model for prediction \n",
    "\n",
    "\n",
    "\n",
    "plt.xlabel(\"Waist Circumference (cm)\")\n",
    "plt.ylabel(\"Weight (kg)\")\n",
    "y_hat2 = mdl.predict(x)\n",
    "MAE2 = round(np.mean(np.abs(y - y_hat2)),2)\n",
    "\n",
    "ax.text(125, 70, \"MAE = \" + str(MAE), style='italic',\n",
    "       bbox={'facecolor': 'red', 'alpha': 0.5, 'pad': 10})\n",
    "\n",
    "ax.text(125, 50, \"MAE = \" + str(MAE2), style='italic',\n",
    "       bbox={'facecolor': 'green', 'alpha': 0.5, 'pad': 10})\n",
    "# plt.title(\"MAE = \" + str(MAE))\n",
    "# plt.savefig('linear.pdf', bbox_inches = 'tight')\n",
    "plt.show()\n",
    "\n"
   ]
  },
  {
   "cell_type": "code",
   "execution_count": 16,
   "metadata": {
    "colab": {
     "base_uri": "https://localhost:8080/",
     "height": 398
    },
    "executionInfo": {
     "elapsed": 771,
     "status": "ok",
     "timestamp": 1642439019044,
     "user": {
      "displayName": "Abdulhakim Qahtan",
      "photoUrl": "https://lh3.googleusercontent.com/a-/AOh14GhKGH_ruE3oitWLKHS4BOT7DYseeSnTHTqzO0SCMw=s64",
      "userId": "11205961928557001277"
     },
     "user_tz": -60
    },
    "id": "lnZ13N-AmjDC",
    "outputId": "7c26304b-9cd3-48de-82d7-db2c3eb1a92a"
   },
   "outputs": [
    {
     "data": {
      "image/png": "[encoded data removed]",
      "text/plain": [
       "<Figure size 432x432 with 1 Axes>"
      ]
     },
     "metadata": {
      "needs_background": "light"
     },
     "output_type": "display_data"
    }
   ],
   "source": [
    "''' TODO: fit a polynomail regression model with degree 3 on the data \n",
    "Use the numpy model: np.poly1d(np.polyfit(x, y, 3))\n",
    "'''\n",
    "fig, ax = plt.subplots(figsize=(6,6))\n",
    "\n",
    "x1 = np.array(df[\"BMXWAIST\"])\n",
    "y1 = np.array(df[\"BMXWT\"])\n",
    "te = np.arange(min(x1),max(x1))\n",
    "ploy_mdl_3 = np.poly1d(np.polyfit(x1, y1, 3))\n",
    "\n",
    "\n",
    "plt.plot(x1, y1, \"o\");\n",
    "plt.plot(te, ploy_mdl_3(te), 'k')\n",
    "plt.xlabel(\"Waist Circumference (cm)\")\n",
    "plt.ylabel(\"Weight (kg)\")\n",
    "\n",
    "y_hat = ploy_mdl_3(x1)\n",
    "MAE = round(np.mean(np.abs(y1 - y_hat)),2)\n",
    "\n",
    "ax.text(125, 55, \"MAE = \" + str(MAE), style='italic',\n",
    "       bbox={'facecolor': 'red', 'alpha': 0.5, 'pad': 10})\n",
    "# plt.title(\"MAE = \" + str(MAE))\n",
    "plt.savefig('poly1.pdf', bbox_inches = 'tight') \n"
   ]
  },
  {
   "cell_type": "code",
   "execution_count": 17,
   "metadata": {
    "colab": {
     "base_uri": "https://localhost:8080/",
     "height": 398
    },
    "executionInfo": {
     "elapsed": 759,
     "status": "ok",
     "timestamp": 1642439062762,
     "user": {
      "displayName": "Abdulhakim Qahtan",
      "photoUrl": "https://lh3.googleusercontent.com/a-/AOh14GhKGH_ruE3oitWLKHS4BOT7DYseeSnTHTqzO0SCMw=s64",
      "userId": "11205961928557001277"
     },
     "user_tz": -60
    },
    "id": "fPrMV99jmjDC",
    "outputId": "31bceb07-472a-42cc-99e1-80360a0a85c9"
   },
   "outputs": [
    {
     "data": {
      "image/png": "[encoded data removed]",
      "text/plain": [
       "<Figure size 432x432 with 1 Axes>"
      ]
     },
     "metadata": {
      "needs_background": "light"
     },
     "output_type": "display_data"
    }
   ],
   "source": [
    "# TODO: fit a polynomail regression model with degree 7 on the data \n",
    "fig, ax = plt.subplots(figsize=(6,6))\n",
    "\n",
    "x1 = np.array(df[\"BMXWAIST\"])\n",
    "y1 = np.array(df[\"BMXWT\"])\n",
    "te = np.arange(min(x1),max(x1))\n",
    "ploy_mdl_7 = np.poly1d(np.polyfit(x1, y1, 7))\n",
    "\n",
    "\n",
    "plt.plot(x1, y1, \"o\");\n",
    "plt.plot(te, ploy_mdl_7(te), 'k')\n",
    "plt.xlabel(\"Waist Circumference (cm)\")\n",
    "plt.ylabel(\"Weight (kg)\")\n",
    "\n",
    "y_hat = ploy_mdl_7(x1)\n",
    "MAE = round(np.mean(np.abs(y1 - y_hat)),2)\n",
    "\n",
    "\n",
    "ax.text(125, 55, \"MAE = \" + str(MAE), style='italic',\n",
    "       bbox={'facecolor': 'red', 'alpha': 0.5, 'pad': 10})\n",
    "# plt.title(\"MAE = \" + str(MAE))\n",
    "plt.savefig('poly1.pdf', bbox_inches = 'tight') \n"
   ]
  },
  {
   "cell_type": "markdown",
   "metadata": {
    "id": "pb91VkhjmjDD"
   },
   "source": [
    "We do the same exercise on a sample of the data"
   ]
  },
  {
   "cell_type": "code",
   "execution_count": 18,
   "metadata": {
    "colab": {
     "base_uri": "https://localhost:8080/",
     "height": 325
    },
    "executionInfo": {
     "elapsed": 319,
     "status": "ok",
     "timestamp": 1642439461001,
     "user": {
      "displayName": "Abdulhakim Qahtan",
      "photoUrl": "https://lh3.googleusercontent.com/a-/AOh14GhKGH_ruE3oitWLKHS4BOT7DYseeSnTHTqzO0SCMw=s64",
      "userId": "11205961928557001277"
     },
     "user_tz": -60
    },
    "id": "iaxbltiwmjDE",
    "outputId": "1ebe89e8-dacc-439b-cdc8-79b9a142ff9f"
   },
   "outputs": [
    {
     "data": {
      "image/png": "[encoded data removed]",
      "text/plain": [
       "<Figure size 360x360 with 1 Axes>"
      ]
     },
     "metadata": {
      "needs_background": "light"
     },
     "output_type": "display_data"
    }
   ],
   "source": [
    "fig, ax = plt.subplots(figsize=(5,5))\n",
    "\n",
    "sample = df.sample(n = 20)\n",
    "x_sam = sample[\"BMXWAIST\"]\n",
    "y_sam = sample[\"BMXWT\"]\n",
    "ax.scatter(x_sam, y_sam)\n",
    "plt.show()"
   ]
  },
  {
   "cell_type": "code",
   "execution_count": 19,
   "metadata": {
    "colab": {
     "base_uri": "https://localhost:8080/",
     "height": 398
    },
    "executionInfo": {
     "elapsed": 805,
     "status": "ok",
     "timestamp": 1642439853373,
     "user": {
      "displayName": "Abdulhakim Qahtan",
      "photoUrl": "https://lh3.googleusercontent.com/a-/AOh14GhKGH_ruE3oitWLKHS4BOT7DYseeSnTHTqzO0SCMw=s64",
      "userId": "11205961928557001277"
     },
     "user_tz": -60
    },
    "id": "qilpQLhvmjDE",
    "outputId": "d5b03e5f-3610-4d17-a644-b6d3a7b824bd"
   },
   "outputs": [
    {
     "data": {
      "image/png": "[encoded data removed]",
      "text/plain": [
       "<Figure size 432x432 with 1 Axes>"
      ]
     },
     "metadata": {
      "needs_background": "light"
     },
     "output_type": "display_data"
    }
   ],
   "source": [
    "# TODO: fit the three models using the sample this time\n",
    "x_sam = np.array(sample[\"BMXWAIST\"]).reshape(-1, 1)\n",
    "y_sam = np.array(sample[\"BMXWT\"]).reshape(-1, 1)\n",
    "\n",
    "mdl_sam = LinearRegression()\n",
    "mdl_sam.fit(x_sam, y_sam)\n",
    "\n",
    "fig, ax = plt.subplots(figsize=(6,6))\n",
    "plt.plot(x_sam, y_sam, \"o\");\n",
    "te = np.arange(min(x_sam),max(x_sam)+4).reshape(-1,1)\n",
    "te_hat = mdl_sam.predict(te)\n",
    "plt.plot(te, te_hat, 'r')\n",
    "\n",
    "plt.xlabel(\"Waist Circumference (cm)\")\n",
    "plt.ylabel(\"Weight (kg)\")\n",
    "\n",
    "y_hat = mdl_sam.predict(x_sam)\n",
    "# compute the error on the training values\n",
    "MAE = round(np.mean(np.abs(y_sam - y_hat)),2)     \n",
    "\n",
    "ax.text(105, 55, \"MAE = \" + str(MAE), style='italic',\n",
    "       bbox={'facecolor': 'red', 'alpha': 0.5, 'pad': 10})\n",
    "# plt.title(\"MAE = \" + str(MAE))\n",
    "plt.savefig('linear.pdf', bbox_inches = 'tight')\n"
   ]
  },
  {
   "cell_type": "code",
   "execution_count": 20,
   "metadata": {
    "colab": {
     "base_uri": "https://localhost:8080/",
     "height": 398
    },
    "executionInfo": {
     "elapsed": 776,
     "status": "ok",
     "timestamp": 1642440687732,
     "user": {
      "displayName": "Abdulhakim Qahtan",
      "photoUrl": "https://lh3.googleusercontent.com/a-/AOh14GhKGH_ruE3oitWLKHS4BOT7DYseeSnTHTqzO0SCMw=s64",
      "userId": "11205961928557001277"
     },
     "user_tz": -60
    },
    "id": "F2iWBbd7EnIV",
    "outputId": "98623be5-7f76-4fdd-88fe-5a5d225ff0b3"
   },
   "outputs": [
    {
     "data": {
      "image/png": "[encoded data removed]",
      "text/plain": [
       "<Figure size 432x432 with 1 Axes>"
      ]
     },
     "metadata": {
      "needs_background": "light"
     },
     "output_type": "display_data"
    }
   ],
   "source": [
    "# TODO: fit a polynomail regression model with degree 3 on the sample data \n",
    "fig, ax = plt.subplots(figsize=(6,6))\n",
    "\n",
    "x_sam1 = np.array(sample[\"BMXWAIST\"])\n",
    "y_sam1 = np.array(sample[\"BMXWT\"])\n",
    "\n",
    "te = np.arange(min(x_sam1)-3, max(x_sam1)+3)\n",
    "ploy_mdl_sam_3 = np.poly1d(np.polyfit(x_sam1, y_sam1, 3))\n",
    "\n",
    "\n",
    "plt.plot(x_sam1, y_sam1, \"o\");\n",
    "plt.plot(te, ploy_mdl_sam_3(te), 'k')\n",
    "plt.xlabel(\"Waist Circumference (cm)\")\n",
    "plt.ylabel(\"Weight (kg)\")\n",
    "\n",
    "y_hat = ploy_mdl_sam_3(x_sam1)\n",
    "MAE = round(np.mean(np.abs(y_sam1 - y_hat)),2)\n",
    "\n",
    "ax.text(105, 55, \"MAE = \" + str(MAE), style='italic',\n",
    "       bbox={'facecolor': 'red', 'alpha': 0.5, 'pad': 10})\n",
    "# plt.title(\"MAE = \" + str(MAE))\n",
    "plt.savefig('poly1.pdf', bbox_inches = 'tight') \n"
   ]
  },
  {
   "cell_type": "code",
   "execution_count": 21,
   "metadata": {
    "colab": {
     "base_uri": "https://localhost:8080/",
     "height": 398
    },
    "executionInfo": {
     "elapsed": 732,
     "status": "ok",
     "timestamp": 1642441809065,
     "user": {
      "displayName": "Abdulhakim Qahtan",
      "photoUrl": "https://lh3.googleusercontent.com/a-/AOh14GhKGH_ruE3oitWLKHS4BOT7DYseeSnTHTqzO0SCMw=s64",
      "userId": "11205961928557001277"
     },
     "user_tz": -60
    },
    "id": "LM0I4ImzKCF4",
    "outputId": "f9a1f171-15ad-4d77-a633-a45433df719c"
   },
   "outputs": [
    {
     "data": {
      "image/png": "[encoded data removed]",
      "text/plain": [
       "<Figure size 432x432 with 1 Axes>"
      ]
     },
     "metadata": {
      "needs_background": "light"
     },
     "output_type": "display_data"
    }
   ],
   "source": [
    "# TODO: fit a polynomail regression model with degree 7 on the sample data \n",
    "fig, ax = plt.subplots(figsize=(6,6))\n",
    "\n",
    "x_sam1 = np.array(sample[\"BMXWAIST\"])\n",
    "y_sam1 = np.array(sample[\"BMXWT\"])\n",
    "\n",
    "te = np.arange(min(x_sam1)-3, max(x_sam1)+3)\n",
    "ploy_mdl_sam_7 = np.poly1d(np.polyfit(x_sam1, y_sam1, 7))\n",
    "\n",
    "\n",
    "plt.plot(x_sam1, y_sam1, \"o\");\n",
    "plt.plot(te, ploy_mdl_sam_7(te), 'k')\n",
    "plt.xlabel(\"Waist Circumference (cm)\")\n",
    "plt.ylabel(\"Weight (kg)\")\n",
    "\n",
    "y_hat = ploy_mdl_sam_7(x_sam1)\n",
    "MAE = round(np.mean(np.abs(y_sam1 - y_hat)),2)\n",
    "\n",
    "ax.text(105, 55, \"MAE = \" + str(MAE), style='italic',\n",
    "       bbox={'facecolor': 'red', 'alpha': 0.5, 'pad': 10})\n",
    "# plt.title(\"MAE = \" + str(MAE))\n",
    "plt.savefig('poly1.pdf', bbox_inches = 'tight') "
   ]
  },
  {
   "cell_type": "code",
   "execution_count": 35,
   "metadata": {
    "colab": {
     "base_uri": "https://localhost:8080/"
    },
    "executionInfo": {
     "elapsed": 333,
     "status": "ok",
     "timestamp": 1642442167036,
     "user": {
      "displayName": "Abdulhakim Qahtan",
      "photoUrl": "https://lh3.googleusercontent.com/a-/AOh14GhKGH_ruE3oitWLKHS4BOT7DYseeSnTHTqzO0SCMw=s64",
      "userId": "11205961928557001277"
     },
     "user_tz": -60
    },
    "id": "LOBatSh7mjDE",
    "outputId": "14a9f2b8-f639-4605-ffc9-256518a6856b"
   },
   "outputs": [
    {
     "data": {
      "text/plain": [
       "(15, 5, 15, 5)"
      ]
     },
     "execution_count": 35,
     "metadata": {},
     "output_type": "execute_result"
    }
   ],
   "source": [
    "# TODO: Let's split the sample data into two subsets train, test\n",
    "# Documentation can be found at \n",
    "# https://scikit-learn.org/stable/modules/generated/sklearn.model_selection.train_test_split.html\n",
    "from sklearn.model_selection import train_test_split\n",
    "X_train, X_test, y_train, y_test = train_test_split(x_sam, y_sam, test_size=0.25)\n",
    "\n",
    "len(X_train), len(X_test), len(y_train), len(y_test)"
   ]
  },
  {
   "cell_type": "code",
   "execution_count": 36,
   "metadata": {
    "id": "kQbWTK75mjDF"
   },
   "outputs": [
    {
     "data": {
      "image/png": "[encoded data removed]",
      "text/plain": [
       "<Figure size 432x432 with 1 Axes>"
      ]
     },
     "metadata": {
      "needs_background": "light"
     },
     "output_type": "display_data"
    }
   ],
   "source": [
    "# TODO: fit the three models on the train set and use them to predict the values in the test set\n",
    "# Compute the Mean Absolute Error on the test set\n",
    "mdl_t = LinearRegression()\n",
    "mdl_t.fit(X_train, y_train)\n",
    "\n",
    "fig, ax = plt.subplots(figsize=(6,6))\n",
    "plt.plot(X_train, y_train, \"o\");\n",
    "te = np.arange(min(X_train),max(X_train)+4).reshape(-1,1)\n",
    "te_hat = mdl_t.predict(te)\n",
    "plt.plot(te, te_hat, 'r')\n",
    "\n",
    "plt.xlabel(\"Waist Circumference (cm)\")\n",
    "plt.ylabel(\"Weight (kg)\")\n",
    "\n",
    "y_hat = mdl_t.predict(X_test)\n",
    "plt.plot(X_test, y_hat, 'og')\n",
    "plt.plot(X_test, y_test, 'or')\n",
    "\n",
    "# compute the error on the training values\n",
    "MAE = round(np.mean(np.abs(y_test - y_hat)),2)     \n",
    "\n",
    "ax.text(105, 55, \"MAE = \" + str(MAE), style='italic',\n",
    "       bbox={'facecolor': 'red', 'alpha': 0.5, 'pad': 10})\n",
    "# plt.title(\"MAE = \" + str(MAE))\n",
    "plt.savefig('linear.pdf', bbox_inches = 'tight')"
   ]
  },
  {
   "cell_type": "markdown",
   "metadata": {
    "id": "O6yBv4LhmjDF"
   },
   "source": [
    "# Demand Forecasting"
   ]
  },
  {
   "cell_type": "markdown",
   "metadata": {
    "id": "fJnW2FANmjDF"
   },
   "source": [
    "1- we read a time series from csv file, we use the oil price from https://www.kaggle.com/c/store-sales-time-series-forecasting/data"
   ]
  },
  {
   "cell_type": "code",
   "execution_count": null,
   "metadata": {
    "id": "hubgdkEomjDF"
   },
   "outputs": [],
   "source": [
    "df_oil = pd.read_csv('../Data/oil.csv', header = 0,\n",
    "                 quotechar='\"',sep=\",\",\n",
    "                 na_values = ['na', '-', '.', ''], low_memory=False)"
   ]
  },
  {
   "cell_type": "markdown",
   "metadata": {
    "id": "8nlpsFk6mjDF"
   },
   "source": [
    "2- We take a look at the data by plotting the whole data"
   ]
  },
  {
   "cell_type": "code",
   "execution_count": null,
   "metadata": {
    "id": "MxQqWCI0mjDG",
    "outputId": "3190307a-0ff7-4a7c-8f86-39e54f55d811"
   },
   "outputs": [
    {
     "data": {
      "text/plain": [
       "[Text(0.5, 0, 'Date'), Text(0, 0.5, 'Oil Price')]"
      ]
     },
     "execution_count": 39,
     "metadata": {},
     "output_type": "execute_result"
    },
    {
     "data": {
      "image/png": "[encoded data removed]",
      "text/plain": [
       "<Figure size 432x288 with 1 Axes>"
      ]
     },
     "metadata": {
      "needs_background": "light"
     },
     "output_type": "display_data"
    }
   ],
   "source": [
    "plt.rcParams.update({'font.size': 16})\n",
    "fig, ax = plt.subplots()\n",
    "start = 0\n",
    "limit = len(df_oil)\n",
    "end = start + limit - 1\n",
    "ax.plot(df_oil.date[start:end], df_oil.dcoilwtico[start:end], '-')\n",
    "\n",
    "x = [df_oil.date.iloc[start], df_oil.date.iloc[start + math.floor(limit / 4)], \\\n",
    "     df_oil.date.iloc[start + math.floor(limit / 2)], df_oil.date.iloc[start + math.floor(3 * limit / 4)], \\\n",
    "     df_oil.date.iloc[end]]\n",
    "\n",
    "ax.set_xticks(x)\n",
    "plt.xticks(rotation = 45)\n",
    "ax.set(xlabel='Date', ylabel='Oil Price')\n"
   ]
  },
  {
   "cell_type": "markdown",
   "metadata": {
    "id": "pRhKmrRhmjDG"
   },
   "source": [
    "3- We cannot see a lot of details, let's consider a smaller period"
   ]
  },
  {
   "cell_type": "code",
   "execution_count": null,
   "metadata": {
    "id": "L5trxulymjDG",
    "outputId": "a648a61f-7b54-4195-bc8f-7d3a24d4a086"
   },
   "outputs": [
    {
     "data": {
      "text/plain": [
       "[Text(0.5, 0, 'Date'), Text(0, 0.5, 'Oil Price')]"
      ]
     },
     "execution_count": 40,
     "metadata": {},
     "output_type": "execute_result"
    },
    {
     "data": {
      "image/png": "[encoded data removed]",
      "text/plain": [
       "<Figure size 432x288 with 1 Axes>"
      ]
     },
     "metadata": {
      "needs_background": "light"
     },
     "output_type": "display_data"
    }
   ],
   "source": [
    "plt.rcParams.update({'font.size': 16})\n",
    "fig, ax = plt.subplots()\n",
    "start = 300\n",
    "limit = 300\n",
    "end = start + limit - 1\n",
    "ax.plot(df_oil.date[start:end], df_oil.dcoilwtico[start:end], '-')\n",
    "\n",
    "\n",
    "x = [df_oil.date.iloc[start], df_oil.date.iloc[start + math.floor(limit / 4)], \\\n",
    "     df_oil.date.iloc[start + math.floor(limit / 2)], df_oil.date.iloc[start + math.floor(3 * limit / 4)], \\\n",
    "     df_oil.date.iloc[end]]\n",
    "\n",
    "ax.set_xticks(x)\n",
    "plt.xticks(rotation = 45)\n",
    "ax.set(xlabel='Date', ylabel='Oil Price')\n"
   ]
  },
  {
   "cell_type": "markdown",
   "metadata": {
    "id": "vgMG4Tz5mjDG"
   },
   "source": [
    "4- We fill the missing values and use moving average to smooth the data"
   ]
  },
  {
   "cell_type": "code",
   "execution_count": null,
   "metadata": {
    "id": "Rd1sO1pzmjDH",
    "outputId": "26e4b9fc-e828-4d1b-a078-5f560af9dd7b"
   },
   "outputs": [
    {
     "data": {
      "text/plain": [
       "[Text(0.5, 0, 'Date'), Text(0, 0.5, 'Oil Price')]"
      ]
     },
     "execution_count": 42,
     "metadata": {},
     "output_type": "execute_result"
    },
    {
     "data": {
      "image/png": "[encoded data removed]",
      "text/plain": [
       "<Figure size 432x288 with 1 Axes>"
      ]
     },
     "metadata": {
      "needs_background": "light"
     },
     "output_type": "display_data"
    }
   ],
   "source": [
    "# This time, fill the missing values with the closest existing value.\n",
    "df_oil_new = df_oil.copy()\n",
    "\n",
    "while df_oil_new[\"dcoilwtico\"].isnull().any():\n",
    "    df_oil_new = df_oil_new.fillna(method='pad', limit=1)\n",
    "    df_oil_new = df_oil_new.fillna(method='bfill', limit=1)\n",
    "\n",
    "ma_win_size = 50\n",
    "df_oil_new['dcoilwtico'] = df_oil_new['dcoilwtico'].rolling(window = ma_win_size).mean()\n",
    "\n",
    "start = ma_win_size + 10\n",
    "limit = len(df_oil_new) - ma_win_size\n",
    "end = start + limit - 11\n",
    "\n",
    "fig, ax = plt.subplots()\n",
    "\n",
    "ax.plot(df_oil_new.date[start:end], df_oil_new.dcoilwtico[start:end], '-')\n",
    "x = [df_oil_new.date.iloc[start], df_oil_new.date.iloc[start + math.floor(limit / 4)], \\\n",
    "     df_oil_new.date.iloc[start + math.floor(limit / 2)], df_oil_new.date.iloc[start + math.floor(3 * limit / 4)], \\\n",
    "     df_oil_new.date.iloc[end]]\n",
    "ax.set_xticks(x)\n",
    "plt.xticks(rotation = 45)\n",
    "ax.set(xlabel='Date', ylabel='Oil Price')\n"
   ]
  },
  {
   "cell_type": "code",
   "execution_count": null,
   "metadata": {
    "id": "hFFFms8SmjDH"
   },
   "outputs": [],
   "source": [
    "# Let's read the data again\n",
    "df_oil_FC = pd.read_csv('../Data/oil.csv', header = 0,\n",
    "                 quotechar='\"',sep=\",\",\n",
    "                 na_values = ['na', '-', '.', ''], low_memory=False)"
   ]
  },
  {
   "cell_type": "markdown",
   "metadata": {
    "id": "qwuqITnNmjDH"
   },
   "source": [
    "Since, in demand forecasting, we deal with time series, we remove the last two weeks of the data and store it as test data"
   ]
  },
  {
   "cell_type": "code",
   "execution_count": null,
   "metadata": {
    "id": "0cXpyFiYmjDI",
    "outputId": "a77b05ef-34f5-40b4-be3e-3bc4af6a1c0e"
   },
   "outputs": [
    {
     "data": {
      "text/html": [
       "<div>\n",
       "<style scoped>\n",
       "    .dataframe tbody tr th:only-of-type {\n",
       "        vertical-align: middle;\n",
       "    }\n",
       "\n",
       "    .dataframe tbody tr th {\n",
       "        vertical-align: top;\n",
       "    }\n",
       "\n",
       "    .dataframe thead th {\n",
       "        text-align: right;\n",
       "    }\n",
       "</style>\n",
       "<table border=\"1\" class=\"dataframe\">\n",
       "  <thead>\n",
       "    <tr style=\"text-align: right;\">\n",
       "      <th></th>\n",
       "      <th>date</th>\n",
       "      <th>dcoilwtico</th>\n",
       "    </tr>\n",
       "  </thead>\n",
       "  <tbody>\n",
       "    <tr>\n",
       "      <th>1206</th>\n",
       "      <td>2017-08-16</td>\n",
       "      <td>46.80</td>\n",
       "    </tr>\n",
       "    <tr>\n",
       "      <th>1207</th>\n",
       "      <td>2017-08-17</td>\n",
       "      <td>47.07</td>\n",
       "    </tr>\n",
       "    <tr>\n",
       "      <th>1208</th>\n",
       "      <td>2017-08-18</td>\n",
       "      <td>48.59</td>\n",
       "    </tr>\n",
       "    <tr>\n",
       "      <th>1209</th>\n",
       "      <td>2017-08-21</td>\n",
       "      <td>47.39</td>\n",
       "    </tr>\n",
       "    <tr>\n",
       "      <th>1210</th>\n",
       "      <td>2017-08-22</td>\n",
       "      <td>47.65</td>\n",
       "    </tr>\n",
       "    <tr>\n",
       "      <th>1211</th>\n",
       "      <td>2017-08-23</td>\n",
       "      <td>48.45</td>\n",
       "    </tr>\n",
       "    <tr>\n",
       "      <th>1212</th>\n",
       "      <td>2017-08-24</td>\n",
       "      <td>47.24</td>\n",
       "    </tr>\n",
       "    <tr>\n",
       "      <th>1213</th>\n",
       "      <td>2017-08-25</td>\n",
       "      <td>47.65</td>\n",
       "    </tr>\n",
       "    <tr>\n",
       "      <th>1214</th>\n",
       "      <td>2017-08-28</td>\n",
       "      <td>46.40</td>\n",
       "    </tr>\n",
       "    <tr>\n",
       "      <th>1215</th>\n",
       "      <td>2017-08-29</td>\n",
       "      <td>46.46</td>\n",
       "    </tr>\n",
       "    <tr>\n",
       "      <th>1216</th>\n",
       "      <td>2017-08-30</td>\n",
       "      <td>45.96</td>\n",
       "    </tr>\n",
       "    <tr>\n",
       "      <th>1217</th>\n",
       "      <td>2017-08-31</td>\n",
       "      <td>47.26</td>\n",
       "    </tr>\n",
       "  </tbody>\n",
       "</table>\n",
       "</div>"
      ],
      "text/plain": [
       "            date  dcoilwtico\n",
       "1206  2017-08-16       46.80\n",
       "1207  2017-08-17       47.07\n",
       "1208  2017-08-18       48.59\n",
       "1209  2017-08-21       47.39\n",
       "1210  2017-08-22       47.65\n",
       "1211  2017-08-23       48.45\n",
       "1212  2017-08-24       47.24\n",
       "1213  2017-08-25       47.65\n",
       "1214  2017-08-28       46.40\n",
       "1215  2017-08-29       46.46\n",
       "1216  2017-08-30       45.96\n",
       "1217  2017-08-31       47.26"
      ]
     },
     "execution_count": 47,
     "metadata": {},
     "output_type": "execute_result"
    }
   ],
   "source": [
    "\n",
    "while df_oil_FC[\"dcoilwtico\"].isnull().any():\n",
    "    df_oil_FC = df_oil_FC.fillna(method='pad', limit=1)\n",
    "    df_oil_FC = df_oil_FC.fillna(method='bfill', limit=1)\n",
    "idx = df_oil_FC.index[df_oil_FC.date == '2017-08-16'].tolist()\n",
    "train = df_oil_FC.iloc[0:idx[0]]\n",
    "test = df_oil_FC.iloc[idx[0]:len(df_oil_FC)]\n",
    "test"
   ]
  },
  {
   "cell_type": "markdown",
   "metadata": {
    "id": "qVLDXNfCmjDI"
   },
   "source": [
    "### Perform demand forecasting using moving average"
   ]
  },
  {
   "cell_type": "code",
   "execution_count": null,
   "metadata": {
    "id": "-z5hcAQnmjDJ",
    "outputId": "4bc9a8f0-00ef-4bfc-e90a-f78288d1f8bb"
   },
   "outputs": [
    {
     "data": {
      "text/plain": [
       "[48.42,\n",
       " 48.19,\n",
       " 48.12,\n",
       " 47.98,\n",
       " 48.06,\n",
       " 48.15,\n",
       " 48.1,\n",
       " 48.08,\n",
       " 48.07,\n",
       " 48.09,\n",
       " 48.1,\n",
       " 48.09]"
      ]
     },
     "execution_count": 48,
     "metadata": {},
     "output_type": "execute_result"
    }
   ],
   "source": [
    "k = 5\n",
    "start = len(train) - k\n",
    "end = len(train)\n",
    "new_list = train.dcoilwtico.iloc[start:end].tolist()\n",
    "# last = new_list.index\n",
    "\n",
    "for item in test.date:\n",
    "    windowMA = round(np.mean(new_list[-k:]), 2)\n",
    "    new_list.append(windowMA)\n",
    "new_list[-12:]"
   ]
  },
  {
   "cell_type": "code",
   "execution_count": null,
   "metadata": {
    "id": "ZrMWV8RzmjDJ",
    "outputId": "25537c36-b772-424a-e1bf-21a366938a13"
   },
   "outputs": [
    {
     "data": {
      "text/plain": [
       "1206    46.80\n",
       "1207    47.07\n",
       "1208    48.59\n",
       "1209    47.39\n",
       "1210    47.65\n",
       "1211    48.45\n",
       "1212    47.24\n",
       "1213    47.65\n",
       "1214    46.40\n",
       "1215    46.46\n",
       "1216    45.96\n",
       "1217    47.26\n",
       "Name: dcoilwtico, dtype: float64"
      ]
     },
     "execution_count": 49,
     "metadata": {},
     "output_type": "execute_result"
    }
   ],
   "source": [
    "# Show the actual price for the test data\n",
    "test.dcoilwtico"
   ]
  },
  {
   "cell_type": "code",
   "execution_count": null,
   "metadata": {
    "id": "znohGbzSmjDJ",
    "outputId": "4c93284f-c81d-4f25-ce08-a8d670cfb33f"
   },
   "outputs": [
    {
     "data": {
      "text/plain": [
       "1.3620583333333365"
      ]
     },
     "execution_count": 50,
     "metadata": {},
     "output_type": "execute_result"
    }
   ],
   "source": [
    "# Compute the means squared error\n",
    "t = len(test)\n",
    "MSE = np.mean((new_list[-t:] - test.dcoilwtico)**2)\n",
    "MSE"
   ]
  },
  {
   "cell_type": "markdown",
   "metadata": {
    "id": "SUPpZm0jmjDK"
   },
   "source": [
    "### Perform demand forecasting using Linear Regression"
   ]
  },
  {
   "cell_type": "code",
   "execution_count": null,
   "metadata": {
    "id": "D3atqwJkmjDK",
    "outputId": "cea3a0d9-3114-4c1b-a9c6-f3f9bd524160"
   },
   "outputs": [
    {
     "data": {
      "text/plain": [
       "[47.886,\n",
       " 47.71654545454546,\n",
       " 47.54709090909091,\n",
       " 47.37763636363637,\n",
       " 47.20818181818182,\n",
       " 47.03872727272728,\n",
       " 46.86927272727273,\n",
       " 46.69981818181819,\n",
       " 46.530363636363646,\n",
       " 46.3609090909091,\n",
       " 46.191454545454555,\n",
       " 46.022000000000006]"
      ]
     },
     "execution_count": 57,
     "metadata": {},
     "output_type": "execute_result"
    }
   ],
   "source": [
    "# We train the model using the last 11 samples from the time series\n",
    "\n",
    "train = train[-11:]\n",
    "train.reset_index(drop=True, inplace=True)\n",
    "offset = math.floor(len(train) / 2)\n",
    "train['x'] = train.index - offset\n",
    "\n",
    "xc = np.array(train.x)\n",
    "yc = np.array(train.dcoilwtico)\n",
    "\n",
    "myLR = LinearRegression()\n",
    "myLR.fit(xc.reshape(len(xc),1), yc.reshape(len(yc),1))\n",
    "# Print the intercept and the coifficient of the model\n",
    "a0 = myLR.intercept_[0]\n",
    "a1 = myLR.coef_[0][0]\n",
    "new_list = list()\n",
    "xi = np.max(train.x) + 1\n",
    "for item in test.date:\n",
    "    yi = a0 + a1 * xi \n",
    "    new_list.append(yi)\n",
    "    xi += 1\n",
    "new_list"
   ]
  },
  {
   "cell_type": "markdown",
   "metadata": {
    "id": "igil1jMnmjDK"
   },
   "source": [
    "### Evaluation"
   ]
  },
  {
   "cell_type": "code",
   "execution_count": null,
   "metadata": {
    "id": "UKJyHPk3mjDK",
    "outputId": "4d196a41-decf-4619-a6e8-dbf0e8bb644e"
   },
   "outputs": [
    {
     "data": {
      "text/plain": [
       "0.6383939393939393"
      ]
     },
     "execution_count": 58,
     "metadata": {},
     "output_type": "execute_result"
    }
   ],
   "source": [
    "# Mean absolute error\n",
    "MAE = np.mean(abs(new_list - test.dcoilwtico)) # computing the mean squared error\n",
    "MAE"
   ]
  },
  {
   "cell_type": "code",
   "execution_count": null,
   "metadata": {
    "id": "tHNTN5dQmjDK",
    "outputId": "46eeea71-5fd1-4b1a-ae21-807b57ef6ce9"
   },
   "outputs": [
    {
     "data": {
      "text/plain": [
       "0.6271196969696954"
      ]
     },
     "execution_count": 59,
     "metadata": {},
     "output_type": "execute_result"
    }
   ],
   "source": [
    "# Mean squared error\n",
    "MSE = np.mean((new_list - test.dcoilwtico)**2) # computing the mean squared error\n",
    "MSE"
   ]
  },
  {
   "cell_type": "code",
   "execution_count": null,
   "metadata": {
    "id": "CoUaQW7nmjDL",
    "outputId": "45e0a0c9-59af-4974-c4a4-d9b2dbe76b54"
   },
   "outputs": [
    {
     "data": {
      "text/plain": [
       "7.525436363636345"
      ]
     },
     "execution_count": 60,
     "metadata": {},
     "output_type": "execute_result"
    }
   ],
   "source": [
    "# Sum of squared error\n",
    "SSE = np.sum((new_list - test.dcoilwtico)**2) # computing the sum squared error\n",
    "SSE"
   ]
  },
  {
   "cell_type": "code",
   "execution_count": null,
   "metadata": {
    "id": "hqMmr1hCmjDL",
    "outputId": "534e5e3f-e6dd-4af0-f2e6-2ff4d2dd3e6d"
   },
   "outputs": [
    {
     "data": {
      "text/plain": [
       "-0.10336091816341897"
      ]
     },
     "execution_count": 61,
     "metadata": {},
     "output_type": "execute_result"
    }
   ],
   "source": [
    "# R-Square\n",
    "from sklearn.metrics import r2_score\n",
    "r2 = r2_score(test.dcoilwtico, new_list)\n",
    "r2"
   ]
  },
  {
   "cell_type": "code",
   "execution_count": null,
   "metadata": {
    "id": "IumBxFS_mjDL"
   },
   "outputs": [],
   "source": []
  }
 ],
 "metadata": {
  "colab": {
   "collapsed_sections": [
    "qVLDXNfCmjDI",
    "SUPpZm0jmjDK",
    "igil1jMnmjDK"
   ],
   "name": "WEP_2022_Day2_G2.ipynb",
   "provenance": []
  },
  "kernelspec": {
   "display_name": "Python 3",
   "language": "python",
   "name": "python3"
  },
  "language_info": {
   "codemirror_mode": {
    "name": "ipython",
    "version": 3
   },
   "file_extension": ".py",
   "mimetype": "text/x-python",
   "name": "python",
   "nbconvert_exporter": "python",
   "pygments_lexer": "ipython3",
   "version": "3.9.1"
  }
 },
 "nbformat": 4,
 "nbformat_minor": 1
}
