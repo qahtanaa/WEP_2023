{
 "cells": [
  {
   "cell_type": "code",
   "execution_count": 2,
   "metadata": {
    "id": "D323R3x3ZbJJ"
   },
   "outputs": [],
   "source": [
    "import pandas as pd\n",
    "import numpy as np\n",
    "import csv"
   ]
  },
  {
   "cell_type": "markdown",
   "metadata": {
    "id": "kPRUadBTZbJQ"
   },
   "source": [
    "# The Basics\n",
    "#### defining variables \n"
   ]
  },
  {
   "cell_type": "code",
   "execution_count": null,
   "metadata": {
    "colab": {
     "base_uri": "https://localhost:8080/"
    },
    "executionInfo": {
     "elapsed": 8,
     "status": "ok",
     "timestamp": 1642384158610,
     "user": {
      "displayName": "Abdulhakim Qahtan",
      "photoUrl": "https://lh3.googleusercontent.com/a-/AOh14GhKGH_ruE3oitWLKHS4BOT7DYseeSnTHTqzO0SCMw=s64",
      "userId": "11205961928557001277"
     },
     "user_tz": -60
    },
    "id": "gcago3raZbJT",
    "outputId": "c0b59f07-1d55-43e4-fac1-09b025259653"
   },
   "outputs": [
    {
     "data": {
      "text/plain": [
       "(12, int)"
      ]
     },
     "execution_count": 19,
     "metadata": {},
     "output_type": "execute_result"
    }
   ],
   "source": [
    "# TODO: define a variable to hold the value 12 and print the value and the type of the varaible\n",
    "x = 12\n",
    "x, type(x)"
   ]
  },
  {
   "cell_type": "code",
   "execution_count": null,
   "metadata": {
    "colab": {
     "base_uri": "https://localhost:8080/"
    },
    "executionInfo": {
     "elapsed": 3,
     "status": "ok",
     "timestamp": 1642384159444,
     "user": {
      "displayName": "Abdulhakim Qahtan",
      "photoUrl": "https://lh3.googleusercontent.com/a-/AOh14GhKGH_ruE3oitWLKHS4BOT7DYseeSnTHTqzO0SCMw=s64",
      "userId": "11205961928557001277"
     },
     "user_tz": -60
    },
    "id": "3aa8gtYcZbJX",
    "outputId": "05b1894c-b112-45a7-dca9-634d8a26f643"
   },
   "outputs": [
    {
     "data": {
      "text/plain": [
       "(3.14, float)"
      ]
     },
     "execution_count": 20,
     "metadata": {},
     "output_type": "execute_result"
    }
   ],
   "source": [
    "# TODO: define a variable to hold the value 3.14 and print the value and the type of the varaible\n",
    "pi = 3.14\n",
    "pi, type(pi)"
   ]
  },
  {
   "cell_type": "code",
   "execution_count": null,
   "metadata": {
    "colab": {
     "base_uri": "https://localhost:8080/"
    },
    "executionInfo": {
     "elapsed": 18,
     "status": "ok",
     "timestamp": 1642384159728,
     "user": {
      "displayName": "Abdulhakim Qahtan",
      "photoUrl": "https://lh3.googleusercontent.com/a-/AOh14GhKGH_ruE3oitWLKHS4BOT7DYseeSnTHTqzO0SCMw=s64",
      "userId": "11205961928557001277"
     },
     "user_tz": -60
    },
    "id": "bJXwkTPsZbJY",
    "outputId": "2d1b58c1-7c2a-403a-a3fd-f7b62efa706a"
   },
   "outputs": [
    {
     "data": {
      "text/plain": [
       "('ML for Beginners', str)"
      ]
     },
     "execution_count": 21,
     "metadata": {},
     "output_type": "execute_result"
    }
   ],
   "source": [
    "# TODO: define a variable to hold the value \"ML for Beginners\" and print the value and the type of the varaible\n",
    "y = 'ML for Beginners'\n",
    "y, type(y)"
   ]
  },
  {
   "cell_type": "code",
   "execution_count": null,
   "metadata": {
    "colab": {
     "base_uri": "https://localhost:8080/"
    },
    "executionInfo": {
     "elapsed": 17,
     "status": "ok",
     "timestamp": 1642384159729,
     "user": {
      "displayName": "Abdulhakim Qahtan",
      "photoUrl": "https://lh3.googleusercontent.com/a-/AOh14GhKGH_ruE3oitWLKHS4BOT7DYseeSnTHTqzO0SCMw=s64",
      "userId": "11205961928557001277"
     },
     "user_tz": -60
    },
    "id": "9ksR_nRwZbJZ",
    "outputId": "bdeb34ef-ef32-4673-fcb9-79752debac18"
   },
   "outputs": [
    {
     "name": "stdout",
     "output_type": "stream",
     "text": [
      "new value for x =  4.0\n",
      "floor(4.8) =  4\n",
      "ceiling(4.2) =  5\n"
     ]
    }
   ],
   "source": [
    "import math\n",
    "# TODO: perform mathematical operations on some values, maybe you can try the function floor or ceil \n",
    "# with the other opertors +, -, *, /, %, **\n",
    "w = 3\n",
    "new_x = x / w \n",
    "f = math.floor(4.8)\n",
    "c = math.ceil(4.2)\n",
    "print ('new value for x = ', round(new_x, 2))\n",
    "print ('floor(4.8) = ', f)\n",
    "print ('ceiling(4.2) = ', c)\n"
   ]
  },
  {
   "cell_type": "code",
   "execution_count": null,
   "metadata": {
    "colab": {
     "base_uri": "https://localhost:8080/"
    },
    "executionInfo": {
     "elapsed": 14,
     "status": "ok",
     "timestamp": 1642384159729,
     "user": {
      "displayName": "Abdulhakim Qahtan",
      "photoUrl": "https://lh3.googleusercontent.com/a-/AOh14GhKGH_ruE3oitWLKHS4BOT7DYseeSnTHTqzO0SCMw=s64",
      "userId": "11205961928557001277"
     },
     "user_tz": -60
    },
    "id": "0o6vuAZ4n4Vp",
    "outputId": "d9888cb1-6793-4632-e45c-550e8620c6d4"
   },
   "outputs": [
    {
     "data": {
      "text/plain": [
       "32"
      ]
     },
     "execution_count": 23,
     "metadata": {},
     "output_type": "execute_result"
    }
   ],
   "source": [
    "# ** is the operator to find the power e.g. 2**3 = 2*2*2 = 8\n",
    "2 ** 5"
   ]
  },
  {
   "cell_type": "code",
   "execution_count": null,
   "metadata": {
    "colab": {
     "base_uri": "https://localhost:8080/"
    },
    "executionInfo": {
     "elapsed": 13,
     "status": "ok",
     "timestamp": 1642384159730,
     "user": {
      "displayName": "Abdulhakim Qahtan",
      "photoUrl": "https://lh3.googleusercontent.com/a-/AOh14GhKGH_ruE3oitWLKHS4BOT7DYseeSnTHTqzO0SCMw=s64",
      "userId": "11205961928557001277"
     },
     "user_tz": -60
    },
    "id": "WOi_VDdUuPXo",
    "outputId": "60fe0f80-0161-4021-d736-e667744e62ee"
   },
   "outputs": [
    {
     "name": "stdout",
     "output_type": "stream",
     "text": [
      "x =  4  y =  8\n"
     ]
    }
   ],
   "source": [
    "# Declaring more than one variable in one line of code\n",
    "x, y = 4, 8\n",
    "print('x = ', x, ' y = ', y)"
   ]
  },
  {
   "cell_type": "code",
   "execution_count": null,
   "metadata": {
    "colab": {
     "base_uri": "https://localhost:8080/"
    },
    "executionInfo": {
     "elapsed": 10,
     "status": "ok",
     "timestamp": 1642384159730,
     "user": {
      "displayName": "Abdulhakim Qahtan",
      "photoUrl": "https://lh3.googleusercontent.com/a-/AOh14GhKGH_ruE3oitWLKHS4BOT7DYseeSnTHTqzO0SCMw=s64",
      "userId": "11205961928557001277"
     },
     "user_tz": -60
    },
    "id": "N3mYrO7vtGKJ",
    "outputId": "d195074c-b38e-4505-8be7-8c36bc8b8249"
   },
   "outputs": [
    {
     "name": "stdout",
     "output_type": "stream",
     "text": [
      "x =  8  y =  4\n"
     ]
    }
   ],
   "source": [
    "# Swapping the values in the variables becomes easier\n",
    "x, y = y, x\n",
    "print('x = ', x, ' y = ', y)"
   ]
  },
  {
   "cell_type": "code",
   "execution_count": null,
   "metadata": {
    "colab": {
     "base_uri": "https://localhost:8080/",
     "height": 201
    },
    "executionInfo": {
     "elapsed": 9,
     "status": "error",
     "timestamp": 1642384159731,
     "user": {
      "displayName": "Abdulhakim Qahtan",
      "photoUrl": "https://lh3.googleusercontent.com/a-/AOh14GhKGH_ruE3oitWLKHS4BOT7DYseeSnTHTqzO0SCMw=s64",
      "userId": "11205961928557001277"
     },
     "user_tz": -60
    },
    "id": "1E6YNCn7ZbJa",
    "outputId": "d443ee3a-4a1d-4c7d-c550-e8808a6b5a38"
   },
   "outputs": [
    {
     "ename": "TypeError",
     "evalue": "ignored",
     "output_type": "error",
     "traceback": [
      "\u001b[0;31m---------------------------------------------------------------------------\u001b[0m",
      "\u001b[0;31mTypeError\u001b[0m                                 Traceback (most recent call last)",
      "\u001b[0;32m<ipython-input-26-0f3f50d57025>\u001b[0m in \u001b[0;36m<module>\u001b[0;34m()\u001b[0m\n\u001b[1;32m      1\u001b[0m \u001b[0;31m# TODO: can you add a number and string (make the operation string concatenation)\u001b[0m\u001b[0;34m\u001b[0m\u001b[0;34m\u001b[0m\u001b[0;34m\u001b[0m\u001b[0m\n\u001b[0;32m----> 2\u001b[0;31m \u001b[0my\u001b[0m \u001b[0;34m+\u001b[0m \u001b[0;34m' '\u001b[0m \u001b[0;34m+\u001b[0m \u001b[0mstr\u001b[0m\u001b[0;34m(\u001b[0m\u001b[0mx\u001b[0m\u001b[0;34m)\u001b[0m\u001b[0;34m\u001b[0m\u001b[0;34m\u001b[0m\u001b[0m\n\u001b[0m",
      "\u001b[0;31mTypeError\u001b[0m: unsupported operand type(s) for +: 'int' and 'str'"
     ]
    }
   ],
   "source": [
    "# TODO: can you add a number and string (make the operation string concatenation)\n",
    "y + ' ' + str(x)"
   ]
  },
  {
   "cell_type": "code",
   "execution_count": null,
   "metadata": {
    "colab": {
     "base_uri": "https://localhost:8080/"
    },
    "executionInfo": {
     "elapsed": 7,
     "status": "ok",
     "timestamp": 1642384159959,
     "user": {
      "displayName": "Abdulhakim Qahtan",
      "photoUrl": "https://lh3.googleusercontent.com/a-/AOh14GhKGH_ruE3oitWLKHS4BOT7DYseeSnTHTqzO0SCMw=s64",
      "userId": "11205961928557001277"
     },
     "user_tz": -60
    },
    "id": "FD4pWvFlZbJb",
    "outputId": "104f3dd2-77d4-42cc-8f40-59667bf4ce5b"
   },
   "outputs": [
    {
     "data": {
      "text/plain": [
       "(130, int)"
      ]
     },
     "execution_count": 27,
     "metadata": {},
     "output_type": "execute_result"
    }
   ],
   "source": [
    "# TODO: can you add a number and string (make the result of the operation to be number)\n",
    "y = '123'\n",
    "w = 7\n",
    "type(y), type(w)\n",
    "v = int(y) + w\n",
    "v, type(v)\n"
   ]
  },
  {
   "cell_type": "code",
   "execution_count": null,
   "metadata": {
    "colab": {
     "base_uri": "https://localhost:8080/"
    },
    "executionInfo": {
     "elapsed": 6,
     "status": "ok",
     "timestamp": 1642384159960,
     "user": {
      "displayName": "Abdulhakim Qahtan",
      "photoUrl": "https://lh3.googleusercontent.com/a-/AOh14GhKGH_ruE3oitWLKHS4BOT7DYseeSnTHTqzO0SCMw=s64",
      "userId": "11205961928557001277"
     },
     "user_tz": -60
    },
    "id": "dLXjcIeJZbJe",
    "outputId": "403ee95c-c913-450f-8c51-c5579bec4bc6"
   },
   "outputs": [
    {
     "data": {
      "text/plain": [
       "(3, 2)"
      ]
     },
     "execution_count": 28,
     "metadata": {},
     "output_type": "execute_result"
    }
   ],
   "source": [
    "# what about % operation \n",
    "3 % 5, 5 % 3"
   ]
  },
  {
   "cell_type": "code",
   "execution_count": null,
   "metadata": {
    "colab": {
     "base_uri": "https://localhost:8080/"
    },
    "executionInfo": {
     "elapsed": 271,
     "status": "ok",
     "timestamp": 1642384162410,
     "user": {
      "displayName": "Abdulhakim Qahtan",
      "photoUrl": "https://lh3.googleusercontent.com/a-/AOh14GhKGH_ruE3oitWLKHS4BOT7DYseeSnTHTqzO0SCMw=s64",
      "userId": "11205961928557001277"
     },
     "user_tz": -60
    },
    "id": "MdaKgUHDZbJg",
    "outputId": "e5d7e463-349e-4d57-9e89-04103a03140c"
   },
   "outputs": [
    {
     "name": "stdout",
     "output_type": "stream",
     "text": [
      "2 5 8\n",
      "5 2 8\n"
     ]
    }
   ],
   "source": [
    "# TODO: initialize multiple variable in single statement\n",
    "x , y, w = 2, 5, 8\n",
    "print(x , y , w)\n",
    "x, y = y, x\n",
    "print(x , y , w)"
   ]
  },
  {
   "cell_type": "code",
   "execution_count": null,
   "metadata": {
    "colab": {
     "base_uri": "https://localhost:8080/",
     "height": 201
    },
    "executionInfo": {
     "elapsed": 6,
     "status": "error",
     "timestamp": 1642384162793,
     "user": {
      "displayName": "Abdulhakim Qahtan",
      "photoUrl": "https://lh3.googleusercontent.com/a-/AOh14GhKGH_ruE3oitWLKHS4BOT7DYseeSnTHTqzO0SCMw=s64",
      "userId": "11205961928557001277"
     },
     "user_tz": -60
    },
    "id": "5LRsIXzsZbJh",
    "outputId": "b6edc740-374d-4325-964d-989439d44d00"
   },
   "outputs": [
    {
     "ename": "NameError",
     "evalue": "ignored",
     "output_type": "error",
     "traceback": [
      "\u001b[0;31m---------------------------------------------------------------------------\u001b[0m",
      "\u001b[0;31mNameError\u001b[0m                                 Traceback (most recent call last)",
      "\u001b[0;32m<ipython-input-30-c678490a8199>\u001b[0m in \u001b[0;36m<module>\u001b[0;34m()\u001b[0m\n\u001b[1;32m      1\u001b[0m \u001b[0;31m# TODO: try accessing the value of a variable that hasn't been initialized e.g print(CEMSE)\u001b[0m\u001b[0;34m\u001b[0m\u001b[0;34m\u001b[0m\u001b[0;34m\u001b[0m\u001b[0m\n\u001b[0;32m----> 2\u001b[0;31m \u001b[0mprint\u001b[0m\u001b[0;34m(\u001b[0m\u001b[0mCEMSE\u001b[0m\u001b[0;34m)\u001b[0m  \u001b[0;31m# this will give an error\u001b[0m\u001b[0;34m\u001b[0m\u001b[0;34m\u001b[0m\u001b[0m\n\u001b[0m",
      "\u001b[0;31mNameError\u001b[0m: name 'CEMSE' is not defined"
     ]
    }
   ],
   "source": [
    "# TODO: try accessing the value of a variable that hasn't been initialized e.g print(CEMSE)\n",
    "print(CEMSE)  # this will give an error"
   ]
  },
  {
   "cell_type": "code",
   "execution_count": null,
   "metadata": {
    "colab": {
     "base_uri": "https://localhost:8080/"
    },
    "executionInfo": {
     "elapsed": 4,
     "status": "ok",
     "timestamp": 1642384164410,
     "user": {
      "displayName": "Abdulhakim Qahtan",
      "photoUrl": "https://lh3.googleusercontent.com/a-/AOh14GhKGH_ruE3oitWLKHS4BOT7DYseeSnTHTqzO0SCMw=s64",
      "userId": "11205961928557001277"
     },
     "user_tz": -60
    },
    "id": "SGo6GPf4t84-",
    "outputId": "a6efcc2a-f891-4caa-fb65-902a2f898d85"
   },
   "outputs": [
    {
     "name": "stdout",
     "output_type": "stream",
     "text": [
      "CEMSE\n"
     ]
    }
   ],
   "source": [
    "# If we put CEMSE between two single quotations, it will be considered as string\n",
    "# We will not see the error\n",
    "print('CEMSE')  "
   ]
  },
  {
   "cell_type": "code",
   "execution_count": null,
   "metadata": {
    "colab": {
     "base_uri": "https://localhost:8080/"
    },
    "executionInfo": {
     "elapsed": 4,
     "status": "ok",
     "timestamp": 1642384165342,
     "user": {
      "displayName": "Abdulhakim Qahtan",
      "photoUrl": "https://lh3.googleusercontent.com/a-/AOh14GhKGH_ruE3oitWLKHS4BOT7DYseeSnTHTqzO0SCMw=s64",
      "userId": "11205961928557001277"
     },
     "user_tz": -60
    },
    "id": "wlSKTFaMZbJi",
    "outputId": "bc140847-5479-4256-d1b4-77c769fda06a"
   },
   "outputs": [
    {
     "name": "stdout",
     "output_type": "stream",
     "text": [
      "Computer, Electrical and Mathematical Sciences and Engineering Division\n"
     ]
    }
   ],
   "source": [
    "# TODO: now, try to assign a value to CEMSE before printing it\n",
    "CEMSE = 'Computer, Electrical and Mathematical Sciences and Engineering Division'\n",
    "print(CEMSE)"
   ]
  },
  {
   "cell_type": "code",
   "execution_count": null,
   "metadata": {
    "colab": {
     "base_uri": "https://localhost:8080/"
    },
    "executionInfo": {
     "elapsed": 5,
     "status": "ok",
     "timestamp": 1642384165957,
     "user": {
      "displayName": "Abdulhakim Qahtan",
      "photoUrl": "https://lh3.googleusercontent.com/a-/AOh14GhKGH_ruE3oitWLKHS4BOT7DYseeSnTHTqzO0SCMw=s64",
      "userId": "11205961928557001277"
     },
     "user_tz": -60
    },
    "id": "ZGMqSljVv5w8",
    "outputId": "ddbf5ce1-5fbb-43f8-882f-a6fd759ca059"
   },
   "outputs": [
    {
     "data": {
      "text/plain": [
       "False"
      ]
     },
     "execution_count": 33,
     "metadata": {},
     "output_type": "execute_result"
    }
   ],
   "source": [
    "2 + 5 * 3  == (2 + 5) * 3"
   ]
  },
  {
   "cell_type": "markdown",
   "metadata": {
    "id": "kE2V2lFFZbJj"
   },
   "source": [
    "#### Compound data types"
   ]
  },
  {
   "cell_type": "code",
   "execution_count": null,
   "metadata": {
    "colab": {
     "base_uri": "https://localhost:8080/"
    },
    "executionInfo": {
     "elapsed": 208,
     "status": "ok",
     "timestamp": 1642384174390,
     "user": {
      "displayName": "Abdulhakim Qahtan",
      "photoUrl": "https://lh3.googleusercontent.com/a-/AOh14GhKGH_ruE3oitWLKHS4BOT7DYseeSnTHTqzO0SCMw=s64",
      "userId": "11205961928557001277"
     },
     "user_tz": -60
    },
    "id": "k8S06dXeZbJk",
    "outputId": "61172fac-9ddd-4b52-8504-61798f4368a9"
   },
   "outputs": [
    {
     "data": {
      "text/plain": [
       "(['Erik Smulders', 12345, 'Physics', 24], list)"
      ]
     },
     "execution_count": 34,
     "metadata": {},
     "output_type": "execute_result"
    }
   ],
   "source": [
    "''' TODO: define a variable to hold the information of a student using List\n",
    "the information include:\n",
    "name = 'Erik Smulders'\n",
    "ID = 12345\n",
    "dept_name = 'Physics'\n",
    "tot_credits = 24\n",
    "'''\n",
    "# Print the content and the type of the variable  \n",
    "mylist = ['Erik Smulders', 12345, 'Physics', 24]\n",
    "mylist, type(mylist)"
   ]
  },
  {
   "cell_type": "code",
   "execution_count": null,
   "metadata": {
    "colab": {
     "base_uri": "https://localhost:8080/"
    },
    "executionInfo": {
     "elapsed": 2,
     "status": "ok",
     "timestamp": 1642384174632,
     "user": {
      "displayName": "Abdulhakim Qahtan",
      "photoUrl": "https://lh3.googleusercontent.com/a-/AOh14GhKGH_ruE3oitWLKHS4BOT7DYseeSnTHTqzO0SCMw=s64",
      "userId": "11205961928557001277"
     },
     "user_tz": -60
    },
    "id": "jP4SYlOMZbJm",
    "outputId": "dc69c3b4-f36c-4a96-892f-e18a8aea5a0e"
   },
   "outputs": [
    {
     "data": {
      "text/plain": [
       "(('Erik Smulders', 12345, 'Physics', 24), tuple)"
      ]
     },
     "execution_count": 35,
     "metadata": {},
     "output_type": "execute_result"
    }
   ],
   "source": [
    "''' TODO: define a variable to hold the information of a student using Tuple\n",
    "the information include:\n",
    "name = 'Erik Smulders'\n",
    "ID = 12345\n",
    "dept_name = 'Physics'\n",
    "tot_credits = 24\n",
    "'''\n",
    "# Print the content and the type of the variable  \n",
    "t = ('Erik Smulders', 12345, 'Physics', 24)\n",
    "t, type(t)"
   ]
  },
  {
   "cell_type": "code",
   "execution_count": null,
   "metadata": {
    "colab": {
     "base_uri": "https://localhost:8080/"
    },
    "executionInfo": {
     "elapsed": 5,
     "status": "ok",
     "timestamp": 1642384175288,
     "user": {
      "displayName": "Abdulhakim Qahtan",
      "photoUrl": "https://lh3.googleusercontent.com/a-/AOh14GhKGH_ruE3oitWLKHS4BOT7DYseeSnTHTqzO0SCMw=s64",
      "userId": "11205961928557001277"
     },
     "user_tz": -60
    },
    "id": "bBCAarO6ZbJn",
    "outputId": "d708e9f8-d991-441d-9331-6674d572c46a"
   },
   "outputs": [
    {
     "data": {
      "text/plain": [
       "({12345, 24, 'Erik Smulders', 'Physics'}, set)"
      ]
     },
     "execution_count": 36,
     "metadata": {},
     "output_type": "execute_result"
    }
   ],
   "source": [
    "''' TODO: define a variable to hold the information of a student using Set\n",
    "the information include:\n",
    "name = 'Erik Smulders'\n",
    "ID = 12345\n",
    "dept_name = 'Physics'\n",
    "tot_credits = 24\n",
    "'''\n",
    "# Print the content and the type of the variable  \n",
    "\n",
    "s = {'Erik Smulders', 12345, 'Physics', 24}\n",
    "s, type(s)"
   ]
  },
  {
   "cell_type": "code",
   "execution_count": null,
   "metadata": {
    "colab": {
     "base_uri": "https://localhost:8080/"
    },
    "executionInfo": {
     "elapsed": 5,
     "status": "ok",
     "timestamp": 1642384175580,
     "user": {
      "displayName": "Abdulhakim Qahtan",
      "photoUrl": "https://lh3.googleusercontent.com/a-/AOh14GhKGH_ruE3oitWLKHS4BOT7DYseeSnTHTqzO0SCMw=s64",
      "userId": "11205961928557001277"
     },
     "user_tz": -60
    },
    "id": "P5Xjz_TEZbJp",
    "outputId": "a240d174-7432-4cc2-a4e5-5e1e37bf8464"
   },
   "outputs": [
    {
     "name": "stdout",
     "output_type": "stream",
     "text": [
      "['Erik Smulders', 12345, 'Physics', 24, 24]\n",
      "('Erik Smulders', 12345, 'Physics', 24, 24)\n",
      "{24, 12345, 'Physics', 'Erik Smulders'}\n"
     ]
    }
   ],
   "source": [
    "''' TODO: define a variable to hold the information of a student using List, Tuple and Set\n",
    "the information include:\n",
    "name = 'Erik Smulders'\n",
    "ID = 12345\n",
    "dept_name = 'Physics'\n",
    "age = 24\n",
    "tot_credits = 24\n",
    "'''\n",
    "# Print the content and the type of the variable. Do you see anything strange\n",
    "nl = ['Erik Smulders', 12345, 'Physics', 24, 24]\n",
    "nt = ('Erik Smulders', 12345, 'Physics', 24, 24)\n",
    "ns = {'Erik Smulders', 12345, 'Physics', 24, 24}\n",
    "print(nl)\n",
    "print(nt)\n",
    "print(ns)"
   ]
  },
  {
   "cell_type": "code",
   "execution_count": null,
   "metadata": {
    "colab": {
     "base_uri": "https://localhost:8080/"
    },
    "executionInfo": {
     "elapsed": 4,
     "status": "ok",
     "timestamp": 1642384176144,
     "user": {
      "displayName": "Abdulhakim Qahtan",
      "photoUrl": "https://lh3.googleusercontent.com/a-/AOh14GhKGH_ruE3oitWLKHS4BOT7DYseeSnTHTqzO0SCMw=s64",
      "userId": "11205961928557001277"
     },
     "user_tz": -60
    },
    "id": "VzYXV27dZbJp",
    "outputId": "859d1dc4-80cf-479c-81ff-a5e658337281"
   },
   "outputs": [
    {
     "data": {
      "text/plain": [
       "({'credits': 24, 'dept': 'Physics', 'id': 12345, 'name': 'Erik Smulders'},\n",
       " dict)"
      ]
     },
     "execution_count": 38,
     "metadata": {},
     "output_type": "execute_result"
    }
   ],
   "source": [
    "''' TODO: what if I would like to give names to the values \n",
    "'name':'Erik Smulders'\n",
    "'id':12345\n",
    "'dept':'Physics'\n",
    "'credits':24\n",
    "'''\n",
    "\n",
    "s = {'name':'Erik Smulders', 'id':12345, 'dept':'Physics', 'credits':24}\n",
    "s , type(s)\n"
   ]
  },
  {
   "cell_type": "code",
   "execution_count": null,
   "metadata": {
    "colab": {
     "base_uri": "https://localhost:8080/"
    },
    "executionInfo": {
     "elapsed": 4,
     "status": "ok",
     "timestamp": 1642384176839,
     "user": {
      "displayName": "Abdulhakim Qahtan",
      "photoUrl": "https://lh3.googleusercontent.com/a-/AOh14GhKGH_ruE3oitWLKHS4BOT7DYseeSnTHTqzO0SCMw=s64",
      "userId": "11205961928557001277"
     },
     "user_tz": -60
    },
    "id": "f4DcEt0oZbJq",
    "outputId": "76725f39-85a7-4403-a06a-6799e320b7d2"
   },
   "outputs": [
    {
     "data": {
      "text/plain": [
       "(array(['Erik Smulders', '12345', 'Physics', '24'], dtype='<U13'),\n",
       " numpy.ndarray)"
      ]
     },
     "execution_count": 39,
     "metadata": {},
     "output_type": "execute_result"
    }
   ],
   "source": [
    "''' \n",
    "TODO: can we use an array to store the same information?\n",
    "e.g. use ['Erik Smulders', 12345, 'Physics', 24] as you array. \n",
    "Can you tell what happened in this case \n",
    "'''\n",
    "ar = np.array(['Erik Smulders', 12345, 'Physics', 24])\n",
    "ar, type(ar)\n"
   ]
  },
  {
   "cell_type": "code",
   "execution_count": null,
   "metadata": {
    "colab": {
     "base_uri": "https://localhost:8080/"
    },
    "executionInfo": {
     "elapsed": 3,
     "status": "ok",
     "timestamp": 1642384177515,
     "user": {
      "displayName": "Abdulhakim Qahtan",
      "photoUrl": "https://lh3.googleusercontent.com/a-/AOh14GhKGH_ruE3oitWLKHS4BOT7DYseeSnTHTqzO0SCMw=s64",
      "userId": "11205961928557001277"
     },
     "user_tz": -60
    },
    "id": "uHh6vOJUzA8X",
    "outputId": "167f8304-61b6-48e5-d6ca-6dd5c76dcde5"
   },
   "outputs": [
    {
     "data": {
      "text/plain": [
       "(array(['245', '12345', '321', '24'], dtype='<U5'), numpy.ndarray)"
      ]
     },
     "execution_count": 40,
     "metadata": {},
     "output_type": "execute_result"
    }
   ],
   "source": [
    "ar = np.array(['245', 12345, '321', 24])\n",
    "ar, type(ar)"
   ]
  },
  {
   "cell_type": "code",
   "execution_count": null,
   "metadata": {
    "colab": {
     "base_uri": "https://localhost:8080/"
    },
    "executionInfo": {
     "elapsed": 4,
     "status": "ok",
     "timestamp": 1642384178223,
     "user": {
      "displayName": "Abdulhakim Qahtan",
      "photoUrl": "https://lh3.googleusercontent.com/a-/AOh14GhKGH_ruE3oitWLKHS4BOT7DYseeSnTHTqzO0SCMw=s64",
      "userId": "11205961928557001277"
     },
     "user_tz": -60
    },
    "id": "LWhtQlAlZbJq",
    "outputId": "f0ad2082-e120-46b2-addb-b3c3c6080dff"
   },
   "outputs": [
    {
     "data": {
      "text/plain": [
       "array([[1, 2, 3],\n",
       "       [4, 5, 6]])"
      ]
     },
     "execution_count": 41,
     "metadata": {},
     "output_type": "execute_result"
    }
   ],
   "source": [
    "# use the code in the slides to decare a 2D array \n",
    "# _2d = np.array ([[1, 2, 3], [4, 5, 6]])\n",
    "_2d = np.array ([[1, 2, 3], [4, 5, 6]])\n",
    "_2d"
   ]
  },
  {
   "cell_type": "code",
   "execution_count": null,
   "metadata": {
    "colab": {
     "base_uri": "https://localhost:8080/"
    },
    "executionInfo": {
     "elapsed": 6,
     "status": "ok",
     "timestamp": 1642384178898,
     "user": {
      "displayName": "Abdulhakim Qahtan",
      "photoUrl": "https://lh3.googleusercontent.com/a-/AOh14GhKGH_ruE3oitWLKHS4BOT7DYseeSnTHTqzO0SCMw=s64",
      "userId": "11205961928557001277"
     },
     "user_tz": -60
    },
    "id": "rWBbMeIEZbJr",
    "outputId": "678d6b02-16c0-4566-e509-213002d492a7"
   },
   "outputs": [
    {
     "data": {
      "text/plain": [
       "(matrix([[1, 2, 3],\n",
       "         [4, 5, 6]]), matrix([[1, 2, 3],\n",
       "         [4, 5, 6],\n",
       "         [7, 8, 9]]))"
      ]
     },
     "execution_count": 42,
     "metadata": {},
     "output_type": "execute_result"
    }
   ],
   "source": [
    "# TODO: Test the code and comment on the output\n",
    "mat1 = np.matrix ([[1, 2, 3], [4, 5, 6]])\n",
    "mat2 = np.matrix ('1, 2, 3; 4, 5, 6; 7, 8, 9')\n",
    "mat1, mat2"
   ]
  },
  {
   "cell_type": "code",
   "execution_count": null,
   "metadata": {
    "colab": {
     "base_uri": "https://localhost:8080/"
    },
    "executionInfo": {
     "elapsed": 307,
     "status": "ok",
     "timestamp": 1642384209346,
     "user": {
      "displayName": "Abdulhakim Qahtan",
      "photoUrl": "https://lh3.googleusercontent.com/a-/AOh14GhKGH_ruE3oitWLKHS4BOT7DYseeSnTHTqzO0SCMw=s64",
      "userId": "11205961928557001277"
     },
     "user_tz": -60
    },
    "id": "1-MnkbywZbJs",
    "outputId": "9ac30ba1-d86b-4a79-a8df-b9da9be8a598"
   },
   "outputs": [
    {
     "name": "stdout",
     "output_type": "stream",
     "text": [
      "3.5 1.71 3.5 1 6\n",
      "3.5 1.71 3.5 1 6\n"
     ]
    }
   ],
   "source": [
    "# TODO: compute statistical quantities of interest (mean, standard deviation and median) of the array\n",
    "a = np.array ([1, 2, 3, 4, 5, 6])\n",
    "print(a.mean(), round(a.std(), 2), np.median(a), a.min(), a.max())\n",
    "print(np.mean(a), round(np.std(a), 2), np.median(a), np.min(a), np.max(a))\n"
   ]
  },
  {
   "cell_type": "markdown",
   "metadata": {
    "id": "_Ur72nXLZbJt"
   },
   "source": [
    "#### Using conditions to execute part of the code when the condition is evaluated to TRUE"
   ]
  },
  {
   "cell_type": "code",
   "execution_count": null,
   "metadata": {
    "colab": {
     "base_uri": "https://localhost:8080/"
    },
    "executionInfo": {
     "elapsed": 272,
     "status": "ok",
     "timestamp": 1642384220770,
     "user": {
      "displayName": "Abdulhakim Qahtan",
      "photoUrl": "https://lh3.googleusercontent.com/a-/AOh14GhKGH_ruE3oitWLKHS4BOT7DYseeSnTHTqzO0SCMw=s64",
      "userId": "11205961928557001277"
     },
     "user_tz": -60
    },
    "id": "f_INDFCZZbJu",
    "outputId": "e9fa90d4-9e21-4807-890d-48614c2b2331"
   },
   "outputs": [
    {
     "data": {
      "text/plain": [
       "False"
      ]
     },
     "execution_count": 45,
     "metadata": {},
     "output_type": "execute_result"
    }
   ],
   "source": [
    "# Using conditions\n",
    "x = 2\n",
    "y = 3\n",
    "x == y"
   ]
  },
  {
   "cell_type": "code",
   "execution_count": null,
   "metadata": {
    "colab": {
     "base_uri": "https://localhost:8080/"
    },
    "executionInfo": {
     "elapsed": 3,
     "status": "ok",
     "timestamp": 1642384221222,
     "user": {
      "displayName": "Abdulhakim Qahtan",
      "photoUrl": "https://lh3.googleusercontent.com/a-/AOh14GhKGH_ruE3oitWLKHS4BOT7DYseeSnTHTqzO0SCMw=s64",
      "userId": "11205961928557001277"
     },
     "user_tz": -60
    },
    "id": "nddFBiizZbJv",
    "outputId": "847d3cbc-4e3a-4b16-92cf-842391d9f064"
   },
   "outputs": [
    {
     "name": "stdout",
     "output_type": "stream",
     "text": [
      "two\n"
     ]
    }
   ],
   "source": [
    "# TODO: check if the value of x is 2 and print 'two'. If x is different, print 'different number' \n",
    "# (pay attention to the indentation in the code)\n",
    "if x == 2:\n",
    "  print('two')\n",
    "else:\n",
    "  print('different number')\n"
   ]
  },
  {
   "cell_type": "markdown",
   "metadata": {
    "id": "L3xG6_xPZbJv"
   },
   "source": [
    "#### Loops\n",
    "Loops allow to run piece of code multiple times without the need to rewrite the code"
   ]
  },
  {
   "cell_type": "code",
   "execution_count": null,
   "metadata": {
    "colab": {
     "base_uri": "https://localhost:8080/"
    },
    "executionInfo": {
     "elapsed": 387,
     "status": "ok",
     "timestamp": 1642384225495,
     "user": {
      "displayName": "Abdulhakim Qahtan",
      "photoUrl": "https://lh3.googleusercontent.com/a-/AOh14GhKGH_ruE3oitWLKHS4BOT7DYseeSnTHTqzO0SCMw=s64",
      "userId": "11205961928557001277"
     },
     "user_tz": -60
    },
    "id": "YyS1EmkkZbJv",
    "outputId": "cdafc34d-6c73-4b1d-8eef-f2817daaf812"
   },
   "outputs": [
    {
     "name": "stdout",
     "output_type": "stream",
     "text": [
      "Erik Smulders\n",
      "12345\n",
      "Physics\n",
      "24\n",
      "24\n"
     ]
    }
   ],
   "source": [
    "# TODO: use loop to print each field in the student's info on a separate line\n",
    "nl = ['Erik Smulders', 12345, 'Physics', 24, 24]\n",
    "for item in nl:\n",
    "  print(item)"
   ]
  },
  {
   "cell_type": "code",
   "execution_count": null,
   "metadata": {
    "colab": {
     "base_uri": "https://localhost:8080/"
    },
    "executionInfo": {
     "elapsed": 3,
     "status": "ok",
     "timestamp": 1642384225821,
     "user": {
      "displayName": "Abdulhakim Qahtan",
      "photoUrl": "https://lh3.googleusercontent.com/a-/AOh14GhKGH_ruE3oitWLKHS4BOT7DYseeSnTHTqzO0SCMw=s64",
      "userId": "11205961928557001277"
     },
     "user_tz": -60
    },
    "id": "ubQAwTcBZbJv",
    "outputId": "9c42566f-b5df-4b0b-883d-8c9e8b4f8f1e"
   },
   "outputs": [
    {
     "name": "stdout",
     "output_type": "stream",
     "text": [
      "name  =  Erik Smulders\n",
      "id  =  12345\n",
      "dept  =  Physics\n",
      "credits  =  24\n"
     ]
    }
   ],
   "source": [
    "# TODO: Can you do the same using the dictionary \n",
    "student = {'name':'Erik Smulders', 'id':12345, 'dept':'Physics', 'credits':24}\n",
    "for key in student.keys():\n",
    "    print(key, ' = ', student[key])"
   ]
  },
  {
   "cell_type": "code",
   "execution_count": null,
   "metadata": {
    "colab": {
     "base_uri": "https://localhost:8080/"
    },
    "executionInfo": {
     "elapsed": 3,
     "status": "ok",
     "timestamp": 1642384226950,
     "user": {
      "displayName": "Abdulhakim Qahtan",
      "photoUrl": "https://lh3.googleusercontent.com/a-/AOh14GhKGH_ruE3oitWLKHS4BOT7DYseeSnTHTqzO0SCMw=s64",
      "userId": "11205961928557001277"
     },
     "user_tz": -60
    },
    "id": "iD0xDwvHZbJw",
    "outputId": "58b31272-6fcf-46aa-b33e-5e530e7f9f63"
   },
   "outputs": [
    {
     "name": "stdout",
     "output_type": "stream",
     "text": [
      "name  =  Erik Smulders\n",
      "id  =  12345\n",
      "dept  =  Physics\n",
      "credits  =  24\n"
     ]
    }
   ],
   "source": [
    "# TODO: Can you do the same using the items() function of dictionary?\n",
    "student = {'name':'Erik Smulders', 'id':12345, 'dept':'Physics', 'credits':24}\n",
    "for key, value in student.items():\n",
    "    print(key, ' = ', value)\n"
   ]
  },
  {
   "cell_type": "code",
   "execution_count": null,
   "metadata": {
    "colab": {
     "base_uri": "https://localhost:8080/"
    },
    "executionInfo": {
     "elapsed": 4,
     "status": "ok",
     "timestamp": 1642384227586,
     "user": {
      "displayName": "Abdulhakim Qahtan",
      "photoUrl": "https://lh3.googleusercontent.com/a-/AOh14GhKGH_ruE3oitWLKHS4BOT7DYseeSnTHTqzO0SCMw=s64",
      "userId": "11205961928557001277"
     },
     "user_tz": -60
    },
    "id": "kb651f-nZbJy",
    "outputId": "97bca1a9-51ec-4d36-c3d0-a06b24ab90d2"
   },
   "outputs": [
    {
     "data": {
      "text/plain": [
       "['Erik Smulders', 12345, 'Physics', 24]"
      ]
     },
     "execution_count": 50,
     "metadata": {},
     "output_type": "execute_result"
    }
   ],
   "source": [
    "# TODO: what about using inline for loop?\n",
    "[student[key] for key in student.keys()]\n"
   ]
  },
  {
   "cell_type": "code",
   "execution_count": null,
   "metadata": {
    "colab": {
     "base_uri": "https://localhost:8080/"
    },
    "executionInfo": {
     "elapsed": 5,
     "status": "ok",
     "timestamp": 1642384228221,
     "user": {
      "displayName": "Abdulhakim Qahtan",
      "photoUrl": "https://lh3.googleusercontent.com/a-/AOh14GhKGH_ruE3oitWLKHS4BOT7DYseeSnTHTqzO0SCMw=s64",
      "userId": "11205961928557001277"
     },
     "user_tz": -60
    },
    "id": "tvvT4BvS2tu4",
    "outputId": "0bdebd7e-26e3-436f-ddc9-2c37ee96b9b5"
   },
   "outputs": [
    {
     "data": {
      "text/plain": [
       "[('name', 'Erik Smulders'),\n",
       " ('id', 12345),\n",
       " ('dept', 'Physics'),\n",
       " ('credits', 24)]"
      ]
     },
     "execution_count": 51,
     "metadata": {},
     "output_type": "execute_result"
    }
   ],
   "source": [
    "# TODO: what about using inline for loop?\n",
    "[(key, value) for key, value in student.items()]"
   ]
  },
  {
   "cell_type": "code",
   "execution_count": null,
   "metadata": {
    "colab": {
     "base_uri": "https://localhost:8080/"
    },
    "executionInfo": {
     "elapsed": 4,
     "status": "ok",
     "timestamp": 1642384229405,
     "user": {
      "displayName": "Abdulhakim Qahtan",
      "photoUrl": "https://lh3.googleusercontent.com/a-/AOh14GhKGH_ruE3oitWLKHS4BOT7DYseeSnTHTqzO0SCMw=s64",
      "userId": "11205961928557001277"
     },
     "user_tz": -60
    },
    "id": "_yRSGftB3HRa",
    "outputId": "0bf3f3be-1365-4a62-8afd-15e8cf2f3877"
   },
   "outputs": [
    {
     "data": {
      "text/plain": [
       "dict"
      ]
     },
     "execution_count": 52,
     "metadata": {},
     "output_type": "execute_result"
    }
   ],
   "source": [
    "address = {'Country': 'KSA', 'City': 'Thuwal', 'Zip Code':'23955-6900', 'Box': '26xx'}\n",
    "type(address)"
   ]
  },
  {
   "cell_type": "markdown",
   "metadata": {},
   "source": [
    "# Pandas DataFrames\n",
    "\n",
    "#### Creating DataFrames\n"
   ]
  },
  {
   "cell_type": "code",
   "execution_count": null,
   "metadata": {
    "id": "ywly6kk3uoFw"
   },
   "outputs": [],
   "source": [
    "# creating a dataframe from pandas series\n",
    "data = {'State': ['Ohio', 'Ohio', 'Ohio', 'Nevada', 'Nevada', 'Nevada'],\n",
    " 'Year': [2000, 2001, 2002, 2001, 2002, 2003],\n",
    " 'Population': [1.5, 1.7, 3.6, 2.4, 2.9, 3.2]}\n",
    "df = pd.DataFrame(data)\n",
    "df"
   ]
  },
  {
   "cell_type": "code",
   "execution_count": null,
   "metadata": {
    "id": "ywly6kk3uoFw"
   },
   "outputs": [],
   "source": [
    "# creating a dataframe from data List of Lists\n",
    "data = [['Ohio', 2000, 1.5], ['Ohio', 2001, 1.7], ['Ohio', 2002, 3.6],\n",
    "        ['Nevada', 2001, 2.4],['Nevada', 2002, 2.9], ['Nevada', 2003, 3.2]]\n",
    "cols = ['State', 'Year', 'Population']\n",
    "df = pd.DataFrame(data, columns = cols)\n",
    "df"
   ]
  },
  {
   "cell_type": "code",
   "execution_count": null,
   "metadata": {
    "id": "ywly6kk3uoFw"
   },
   "outputs": [],
   "source": [
    "# TODO: print the number of columns and the number of rows in a dataframe\n",
    "print('number of columns = ', len(df.columns))\n",
    "print('number of rows = ', len(df))"
   ]
  },
  {
   "cell_type": "code",
   "execution_count": null,
   "metadata": {
    "id": "ywly6kk3uoFw"
   },
   "outputs": [],
   "source": [
    "# TODO: print the names of the columns of the dataframe\n",
    "df.columns"
   ]
  },
  {
   "cell_type": "code",
   "execution_count": null,
   "metadata": {
    "id": "ywly6kk3uoFw"
   },
   "outputs": [],
   "source": [
    "# TODO: access the column 'State' in two different ways\n",
    "df.State"
   ]
  },
  {
   "cell_type": "code",
   "execution_count": null,
   "metadata": {
    "id": "ywly6kk3uoFw"
   },
   "outputs": [],
   "source": [
    "df['State']"
   ]
  },
  {
   "cell_type": "code",
   "execution_count": null,
   "metadata": {
    "id": "ywly6kk3uoFw"
   },
   "outputs": [],
   "source": [
    "# if we need more than one attribute\n",
    "df[['State', 'Population']]"
   ]
  },
  {
   "cell_type": "code",
   "execution_count": null,
   "metadata": {
    "id": "ywly6kk3uoFw"
   },
   "outputs": [],
   "source": [
    "# creating a dataframe using data stored in a csv file\n",
    "\n",
    "df = pd.read_csv(filepath_or_buffer = 'sample_data/movies.csv', delimiter=',', \n",
    "                 doublequote=True, quotechar='\"',na_values = ['na', '-', '.', ''], \n",
    "                 quoting=csv.QUOTE_ALL, encoding = \"ISO-8859-1\")\n",
    "df"
   ]
  },
  {
   "cell_type": "code",
   "execution_count": null,
   "metadata": {
    "id": "ywly6kk3uoFw"
   },
   "outputs": [],
   "source": [
    "#  You can also use the default paramaters for the function (read_csv)\n",
    "df_csv = pd.read_csv('sample_data/movies.csv')\n",
    "df_csv"
   ]
  },
  {
   "cell_type": "code",
   "execution_count": null,
   "metadata": {
    "id": "ywly6kk3uoFw"
   },
   "outputs": [],
   "source": [
    "# TODO: read the same dataframe but from the first page of the excel sheet instead of the csv file\n",
    "workbook = pd.ExcelFile('sample_data/movies.xlsx')\n",
    "\n",
    "df_xlsx = workbook.parse(workbook.sheet_names[0])\n",
    "df_xlsx"
   ]
  },
  {
   "cell_type": "code",
   "execution_count": null,
   "metadata": {
    "id": "ywly6kk3uoFw"
   },
   "outputs": [],
   "source": [
    "# TODO: display the first row (record) of the table \n",
    "df.loc[0]"
   ]
  },
  {
   "cell_type": "code",
   "execution_count": null,
   "metadata": {
    "id": "ywly6kk3uoFw"
   },
   "outputs": [],
   "source": [
    "# TODO: print the number of columns and the number of rows in the table\n",
    "len(df.columns), len(df)"
   ]
  },
  {
   "cell_type": "code",
   "execution_count": null,
   "metadata": {
    "id": "ywly6kk3uoFw"
   },
   "outputs": [],
   "source": [
    "# TODO: Display the index and the the data types of the columns in the dataframe\n",
    "df.info()"
   ]
  },
  {
   "cell_type": "code",
   "execution_count": null,
   "metadata": {
    "id": "ywly6kk3uoFw"
   },
   "outputs": [],
   "source": [
    "# TODO: disply the first n rows from the dataframe\n",
    "n = 5\n",
    "df.head(n)"
   ]
  },
  {
   "cell_type": "code",
   "execution_count": null,
   "metadata": {
    "id": "ywly6kk3uoFw"
   },
   "outputs": [],
   "source": [
    "# TODO: disply the last n rows from the dataframe\n",
    "n = 7\n",
    "df.tail(n)"
   ]
  },
  {
   "cell_type": "code",
   "execution_count": null,
   "metadata": {
    "id": "ywly6kk3uoFw"
   },
   "outputs": [],
   "source": [
    "# TODO: display the rows 2:5 of the dataframe\n",
    "df.loc[2:5,]"
   ]
  },
  {
   "cell_type": "code",
   "execution_count": null,
   "metadata": {
    "id": "ywly6kk3uoFw"
   },
   "outputs": [],
   "source": [
    "# TODO: display the columns 2:5 of the dataframe\n",
    "df.iloc[:,2:5]"
   ]
  },
  {
   "cell_type": "code",
   "execution_count": null,
   "metadata": {
    "id": "ywly6kk3uoFw"
   },
   "outputs": [],
   "source": [
    "# TODO: display the records when 'content_rating' is 'PG-13'\n",
    "df.loc[(df['content_rating'] == 'PG-13')]"
   ]
  },
  {
   "cell_type": "code",
   "execution_count": null,
   "metadata": {
    "id": "ywly6kk3uoFw"
   },
   "outputs": [],
   "source": [
    "# TODO: display the columns 'actor_1_facebook_likes', 'actor_3_facebook_likes' and 'budget'] \n",
    "# for movies with 'content_rating''PG-13'\n",
    "df.loc[(df['content_rating'] == 'PG-13'), ['actor_1_facebook_likes', 'actor_3_facebook_likes', 'budget']]"
   ]
  },
  {
   "cell_type": "code",
   "execution_count": null,
   "metadata": {
    "id": "ywly6kk3uoFw"
   },
   "outputs": [],
   "source": [
    "# TODO: display the number of unique values in column 'color'\n",
    "df.color.unique()"
   ]
  },
  {
   "cell_type": "code",
   "execution_count": null,
   "metadata": {
    "id": "ywly6kk3uoFw"
   },
   "outputs": [],
   "source": [
    "# Find all the records with missing value in a given column (here we use color)\n",
    "df[df.color.isnull()]"
   ]
  },
  {
   "cell_type": "code",
   "execution_count": null,
   "metadata": {
    "id": "ywly6kk3uoFw"
   },
   "outputs": [],
   "source": [
    "# TODO: display the number of unique values in column 'genres'\n",
    "df.genres.unique()"
   ]
  },
  {
   "cell_type": "code",
   "execution_count": null,
   "metadata": {
    "id": "ywly6kk3uoFw"
   },
   "outputs": [],
   "source": [
    "# TODO: use for loop to print the name of each column and the number of unique values in that column\n",
    "for col in df.columns:\n",
    "  print(col, ' has ', len(df[col].unique()), ' unique values')"
   ]
  },
  {
   "cell_type": "markdown",
   "metadata": {
    "id": "ywly6kk3uoFw"
   },
   "source": [
    "#### checking the data type of each column "
   ]
  },
  {
   "cell_type": "code",
   "execution_count": null,
   "metadata": {
    "id": "ywly6kk3uoFw"
   },
   "outputs": [],
   "source": [
    "# TODO: display the type of each column\n",
    "df.dtypes"
   ]
  },
  {
   "cell_type": "code",
   "execution_count": null,
   "metadata": {
    "id": "ywly6kk3uoFw"
   },
   "outputs": [],
   "source": [
    "# TODO: check the type of column 'actor_3_facebook_likes'\n",
    "df.dtypes['actor_3_facebook_likes']"
   ]
  },
  {
   "cell_type": "code",
   "execution_count": null,
   "metadata": {
    "id": "ywly6kk3uoFw"
   },
   "outputs": [],
   "source": [
    "# TODO: check the type of columns 'director_name', 'actor_1_facebook_likes' and 'num_voted_users'\n",
    "df.dtypes[['director_name', 'actor_1_facebook_likes', 'num_voted_users']]"
   ]
  },
  {
   "cell_type": "code",
   "execution_count": null,
   "metadata": {
    "id": "ywly6kk3uoFw"
   },
   "outputs": [],
   "source": [
    "# TODO: print the min, max, average and (standard deviation -- not shown bellow)\n",
    "#  of the attributes with numerical values\n",
    "for col in df.columns:\n",
    "    if not (df.dtypes[col] == 'object'):\n",
    "        print(col, df[col].min(), df[col].max(), round(df[col].mean(), 2), round(df[col].std(), 2))"
   ]
  },
  {
   "cell_type": "markdown",
   "metadata": {
    "id": "ywly6kk3uoFw"
   },
   "source": [
    "# Visualization"
   ]
  },
  {
   "cell_type": "code",
   "execution_count": 4,
   "metadata": {
    "id": "ywly6kk3uoFw"
   },
   "outputs": [],
   "source": [
    "# TODO: import the required library\n",
    "import matplotlib.pyplot as plt"
   ]
  },
  {
   "cell_type": "markdown",
   "metadata": {
    "id": "ywly6kk3uoFw"
   },
   "source": [
    "Use:"
   ]
  },
  {
   "cell_type": "code",
   "execution_count": null,
   "metadata": {
    "id": "ywly6kk3uoFw"
   },
   "outputs": [],
   "source": [
    "# TODO: import the required library\n",
    "import matplotlib.pyplot as plt"
   ]
  },
  {
   "cell_type": "markdown",
   "metadata": {
    "id": "ywly6kk3uoFw"
   },
   "source": [
    "Use:\n",
    "\n",
    "    font_size = 16               # you can use the size that would be readable easily\n",
    "    plt.rcParams.update({'font.size': font_size})\n",
    "    fig, ax = plt.subplots()\n",
    "\n",
    "To have more control on the figure's options"
   ]
  },
  {
   "cell_type": "markdown",
   "metadata": {
    "id": "ywly6kk3uoFw"
   },
   "source": [
    "### Scatter plot"
   ]
  },
  {
   "cell_type": "code",
   "execution_count": null,
   "metadata": {},
   "outputs": [],
   "source": [
    "# TODO: plot the 'num_voted_users' on the x-axis and 'cast_total_facebook_likes' on the y-axis as scatter plot\n",
    "xs = df.num_voted_users\n",
    "ys = df.cast_total_facebook_likes\n",
    "plt.scatter(xs, ys)\n",
    "plt.show()"
   ]
  },
  {
   "cell_type": "markdown",
   "metadata": {
    "id": "ywly6kk3uoFw"
   },
   "source": [
    "### Line plot"
   ]
  },
  {
   "cell_type": "code",
   "execution_count": null,
   "metadata": {
    "id": "ywly6kk3uoFw"
   },
   "outputs": [],
   "source": [
    "# TODO: plot the fowllowing variables with thick red line\n",
    "font_size = 20               # you can use the size that would be readable easily\n",
    "plt.rcParams.update({'font.size': font_size})\n",
    "\n",
    "xs = [-5,-4,-3,-2,-1,0,1,2,3,4,5]\n",
    "ys = [x**2 for x in xs]\n",
    "plt.plot(xs, ys, linewidth = 5, color = 'r')\n",
    "plt.xlabel('x')\n",
    "plt.ylabel('y')\n",
    "plt.show()"
   ]
  },
  {
   "cell_type": "markdown",
   "metadata": {
    "id": "ywly6kk3uoFw"
   },
   "source": [
    "### Bar plot"
   ]
  },
  {
   "cell_type": "code",
   "execution_count": null,
   "metadata": {
    "id": "ywly6kk3uoFw"
   },
   "outputs": [],
   "source": [
    "# TODO: plot the fowllowing variables with bar plot and change the color for each bar\n",
    "# Save your plot as pdf \n",
    "\n",
    "xs = [1, 2, 3, 4, 5]\n",
    "ys = [3, 2, 4, 2, 8]\n",
    "colors = ['b', 'k', 'r', 'g', 'c']\n",
    "plt.bar(xs, ys, color = colors, edgecolor = \"black\")\n",
    "plt.savefig('barPlot.pdf', bbox_inches = 'tight')\n",
    "plt.show()"
   ]
  },
  {
   "cell_type": "markdown",
   "metadata": {
    "id": "ywly6kk3uoFw"
   },
   "source": [
    "### Pie Chart"
   ]
  },
  {
   "cell_type": "code",
   "execution_count": null,
   "metadata": {
    "id": "ywly6kk3uoFw"
   },
   "outputs": [],
   "source": [
    "xs = ['AMCS', 'CS', 'EE', 'B', 'CBRC']\n",
    "ys = [10, 20, 50, 15, 5]\n",
    "plt.pie(ys, labels = xs, autopct='%1.1f%%')\n",
    "plt.savefig('pieChart.pdf', bbox_inches = 'tight')\n",
    "plt.show()"
   ]
  },
  {
   "cell_type": "markdown",
   "metadata": {
    "id": "ywly6kk3uoFw"
   },
   "source": [
    "### Heatmap"
   ]
  },
  {
   "cell_type": "code",
   "execution_count": null,
   "metadata": {
    "id": "ywly6kk3uoFw"
   },
   "outputs": [],
   "source": [
    "a = np.random.random((16, 16))\n",
    "plt.imshow(a, cmap='cool', interpolation='nearest')  # you can try also cmap = 'winter' or 'cool', ...\n",
    "plt.show()\n",
    "# TODO: plot the 'num_voted_users' on the x-axis and 'cast_total_facebook_likes' on the y-axis as scatter plot\n",
    "xs = df.num_voted_users\n",
    "ys = df.cast_total_facebook_likes\n",
    "plt.scatter(xs, ys)\n",
    "plt.show()"
   ]
  },
  {
   "cell_type": "markdown",
   "metadata": {},
   "source": [
    "### The exercise"
   ]
  },
  {
   "cell_type": "code",
   "execution_count": 19,
   "metadata": {},
   "outputs": [
    {
     "data": {
      "image/png": "[encoded data removed]",
      "text/plain": [
       "<Figure size 432x432 with 1 Axes>"
      ]
     },
     "metadata": {
      "needs_background": "light"
     },
     "output_type": "display_data"
    }
   ],
   "source": [
    "fig, ax = plt.subplots(figsize=(6,6))\n",
    "\n",
    "major = ['AMCS', 'CS', 'ECE', 'STAT']  \n",
    "# create data\n",
    "x = np.arange(4)\n",
    "Master = [45, 75, 34, 22]\n",
    "PhD = [25, 33, 72, 10]\n",
    "width = 0.40\n",
    "  \n",
    "# plot data in grouped manner of bar type\n",
    "bar1 = plt.bar(x-0.2, Master, width, color = 'b', label = 'Master')\n",
    "bar2 = plt.bar(x+0.2, PhD, width, color = 'g', label = 'PhD')\n",
    "plt.xticks(x, major)\n",
    "ax.legend(handles = [bar1, bar2])\n",
    "plt.show()"
   ]
  },
  {
   "cell_type": "code",
   "execution_count": 18,
   "metadata": {},
   "outputs": [
    {
     "data": {
      "image/png": "[encoded data removed]",
      "text/plain": [
       "<Figure size 432x432 with 1 Axes>"
      ]
     },
     "metadata": {
      "needs_background": "light"
     },
     "output_type": "display_data"
    }
   ],
   "source": [
    "fig, ax = plt.subplots(figsize=(6,6))\n",
    "\n",
    "# create data\n",
    "x = np.arange(2)\n",
    "width = 0.40\n",
    "AMCS = [45, 25]\n",
    "CS = [75, 33]\n",
    "ECE = [34, 72]\n",
    "STAT = [22, 10]\n",
    "\n",
    "# plot data in grouped manner of bar type\n",
    "width = 0.2\n",
    "degree = ['Master', 'PhD']  \n",
    "\n",
    "# plot data in grouped manner of bar type\n",
    "bar1 = plt.bar(x-0.3, AMCS, width, color = 'b', label = 'AMCS')\n",
    "bar2 = plt.bar(x-0.1, CS, width, color = 'g', label = 'CS')\n",
    "bar3 = plt.bar(x+0.1, ECE, width, color = 'r', label = 'ECE')\n",
    "bar4 = plt.bar(x+0.3, ECE, width, color = 'c', label = 'STAT')\n",
    "plt.xticks(x, degree)\n",
    "ax.legend(handles = [bar1, bar2, bar3, bar4])\n",
    "plt.show()"
   ]
  },
  {
   "cell_type": "code",
   "execution_count": null,
   "metadata": {},
   "outputs": [],
   "source": []
  }
 ],
 "metadata": {
  "colab": {
   "collapsed_sections": [],
   "name": "WEP_2022_Day1_G2.ipynb",
   "provenance": []
  },
  "kernelspec": {
   "display_name": "Python 3",
   "language": "python",
   "name": "python3"
  },
  "language_info": {
   "codemirror_mode": {
    "name": "ipython",
    "version": 3
   },
   "file_extension": ".py",
   "mimetype": "text/x-python",
   "name": "python",
   "nbconvert_exporter": "python",
   "pygments_lexer": "ipython3",
   "version": "3.9.1"
  }
 },
 "nbformat": 4,
 "nbformat_minor": 1
}
